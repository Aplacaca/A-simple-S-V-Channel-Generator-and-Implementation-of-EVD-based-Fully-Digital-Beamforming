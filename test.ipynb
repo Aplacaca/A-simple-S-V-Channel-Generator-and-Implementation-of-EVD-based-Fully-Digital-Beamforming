{
 "cells": [
  {
   "cell_type": "code",
   "execution_count": 128,
   "metadata": {},
   "outputs": [
    {
     "name": "stderr",
     "output_type": "stream",
     "text": [
      "/home/dhy/.local/lib/python3.10/site-packages/tqdm/auto.py:22: TqdmWarning:\n",
      "\n",
      "IProgress not found. Please update jupyter and ipywidgets. See https://ipywidgets.readthedocs.io/en/stable/user_install.html\n",
      "\n"
     ]
    }
   ],
   "source": [
    "import numpy as np\n",
    "import math\n",
    "from matplotlib import pyplot as plt\n",
    "import torch"
   ]
  },
  {
   "cell_type": "code",
   "execution_count": 2,
   "metadata": {},
   "outputs": [],
   "source": [
    "\n",
    "def beamspace_channel(M, K, L, angle=0):\n",
    "    \"\"\"M 天线数   K 用户数   L 路径数\"\"\"\n",
    "\n",
    "    m = np.arange(M)\n",
    "    fai_m = 1 / M * (m - (M ) / 2);\n",
    "\n",
    "    '''傅里叶变换矩阵'''\n",
    "    U = []\n",
    "    for i in range(M):\n",
    "        U.append(1/math.sqrt(M)*np.exp(-1j*2*np.pi*fai_m[i]*m))\n",
    "\n",
    "    U = np.array(U)\n",
    "    U = U.conjugate()\n",
    "\n",
    "    G = []\n",
    "    for k in range(K):\n",
    "        #Los_gain = (1+np.random.randn(1)*0.5)*np.exp(1j*np.random.rand(1)*2*np.pi) \n",
    "        #距离默认是100  pathloss增加了10^10 不然太小\n",
    "        # Los_loss = 61.4 + 20*2 + np.random.randn(1)*math.pow(10,0.58)\n",
    "        # Los_loss = math.pow(10, (100-Los_loss)/10)\n",
    "        # Los_gain = Los_gain*Los_loss\n",
    "        Los_gain = np.random.randn(1) + 1j*np.random.randn(1)\n",
    "        #Los_gain = (1 + np.random.randn(1) * 0.2) * np.exp(1j * np.random.rand(1) * 2 * np.pi)\n",
    "        theta =  2*np.pi * np.random.rand(1)+np.pi/2\n",
    "        #固定角度\n",
    "        #theta = np.pi * k / K+np.pi/2#+np.random.randn(1)*1/K*np.pi+angle\n",
    "        fai = np.sin(theta)/2\n",
    "        fai = (np.random.rand(1)-0.5)#*1/K +k/K\n",
    "        g =  Los_gain*1/math.sqrt(M)*np.exp(-1j*2*np.pi*fai*m);\n",
    "        for l in range(L-1):\n",
    "            # nLos_gain = np.random.randn(1) + 1j * np.random.randn(1)\n",
    "            # nLos_loss = 72 + 29.2 * 2 + np.random.randn(1) * math.pow(10, 0.87)\n",
    "            # nLos_loss = math.pow(10, (100 - nLos_loss) / 10)\n",
    "            # nLos_gain = nLos_gain * nLos_loss\n",
    "            nLos_gain = np.sqrt(0.2)*(np.random.randn(1) + 1j*np.random.randn(1))\n",
    "            theta = 2 * np.pi * np.random.rand(1)\n",
    "            fai = np.sin(theta) / 2\n",
    "            fai = np.random.rand(1)-0.5\n",
    "            g = g + nLos_gain * 1 / math.sqrt(M) * np.exp(-1j * 2 * np.pi * fai * m);\n",
    "        G.append(g)\n",
    "    G = np.array(G)\n",
    "    H = np.dot(U,G.T)\n",
    "\n",
    "\n",
    "    \"\"\"画出每个beam的能量\"\"\"\n",
    "    beam_energy = np.sum(np.abs(H),1)\n",
    "    # print(beam_energy)\n",
    "    plt.plot(m,beam_energy)\n",
    "    plt.show()\n",
    "\n",
    "    return  H"
   ]
  },
  {
   "cell_type": "code",
   "execution_count": 4,
   "metadata": {},
   "outputs": [
    {
     "data": {
      "image/png": "[encoded data removed]",
      "text/plain": [
       "<Figure size 432x288 with 1 Axes>"
      ]
     },
     "metadata": {
      "needs_background": "light"
     },
     "output_type": "display_data"
    }
   ],
   "source": [
    "H_beam = beamspace_channel(M=144, K=4, L=16)"
   ]
  },
  {
   "cell_type": "markdown",
   "metadata": {},
   "source": [
    "# Extension of S-V channel model\n",
    "* ref: https://blog.csdn.net/qq_23947237/article/details/89925088\n",
    "    * https://blog.csdn.net/qq_39227541/article/details/119358373\n",
    "* Base station is at (0,0,height)\n",
    "* coordinates of cluster center will be generated randomly\n",
    "* N_ray Scatter will be generated randomly around cluster center\n",
    "* each scatter will create an NLOS path with a random complex parameter beta\n",
    "* there will be a LOS path directly from transmitter & receiver"
   ]
  },
  {
   "cell_type": "markdown",
   "metadata": {},
   "source": [
    "<center class = \"half\">\n",
    "<img src=\"./pics/defi.jpg\" style=\"zoom:27%;\"/>\n",
    "<img src=\"./pics/defi1.jpg\" style=\"zoom:33%;\"/>\n",
    "<img src=\"./pics/lcs_gcs.jpg\" style=\"zoom:33%;\"/>\n",
    "</center>"
   ]
  },
  {
   "cell_type": "code",
   "execution_count": 11,
   "metadata": {},
   "outputs": [],
   "source": [
    "'''\n",
    "Author: dhy\n",
    "Mail: git config user.email\n",
    "Date: 2022-11-22 10:56:58\n",
    "LastEditors: dhy\n",
    "LastEditTime: 2022-11-24 06:56:01\n",
    "FilePath: /PyMIMO/test.ipynb\n",
    "Description: \n",
    "\n",
    "Copyright (c) 2022 by dhy 3057931787@qq.com, All Rights Reserved. \n",
    "'''\n",
    "class Pos():\n",
    "    def __init__(self, x , y, z) -> None:\n",
    "        self.x = x\n",
    "        self.y = y\n",
    "        self.z = z\n",
    "    def vector(self,):\n",
    "        return np.array([self.x,self.y,self.z])\n",
    "    def get_angle(self,):\n",
    "        x,y,z = self.x, self.y, self.z\n",
    "        if x == 0 and y == 0 and z == 0:\n",
    "            raise ValueError(\"Cannot derive angle from O\")\n",
    "        d = np.sqrt(x**2 + y**2 + z**2)\n",
    "        x = x/d\n",
    "        y = y/d\n",
    "        z = z/d\n",
    "        L_elevation = np.arccos(z)\n",
    "        L_azimuth = np.arctan(y/x)\n",
    "        return L_azimuth, L_elevation\n",
    "\n",
    "        \n",
    "class UPA():\n",
    "    def __init__(self, H_ant_num, V_ant_num, bearing = 0*np.pi, downtilt = 0*np.pi, slant = 0*np.pi) -> None:\n",
    "        # The angle alpha is called the bearing angle, beta is called the downtilt angle and gamma is called the slant angle.\n",
    "        self.H_ant_num = H_ant_num\n",
    "        self.V_ant_num = V_ant_num\n",
    "        self.bearing =  bearing\n",
    "        self.downtilt = downtilt\n",
    "        self.slant = slant\n",
    "\n",
    "    def get_array_response(self, G_azimuth, G_elevation):\n",
    "        # H_angle V_angle are from LCS\n",
    "        # antenna lies in local zOy plane\n",
    "        # change GCS angles to LCS\n",
    "        L_azimuth, L_elevation = self.Angle_From_GCS_to_LCS(G_azimuth, G_elevation)\n",
    "        vector_V = np.exp(1j * np.arange(start=0, stop=self.V_ant_num , step=1, dtype=np.complex128) * np.pi * np.cos(L_elevation))\n",
    "        vector_H = np.exp(1j * np.arange(start=0, stop=self.H_ant_num , step=1, dtype=np.complex128) * np.pi *np.sin(L_azimuth) * np.sin(L_elevation))\n",
    "        beams = np.kron(vector_V,vector_H)\n",
    "        y = beams/np.sqrt(self.H_ant_num *self.V_ant_num )\n",
    "        return y\n",
    "\n",
    "    def Coordinate_From_GCS_to_LCS(self, G_pos : Pos):\n",
    "        R_z = np.array([[np.cos(self.bearing), -np.sin(self.bearing), 0],[np.sin(self.bearing), np.cos(self.bearing), 0],[0, 0, 1]])\n",
    "        R_y = np.array([[np.cos(self.downtilt), 0, np.sin(self.downtilt)],[0,1,0],[-np.sin(self.downtilt), 0, np.cos(self.downtilt)]])\n",
    "        R_x = np.array([[1,0,0],[0,np.cos(self.slant),-np.sin(self.slant)],[0,np.sin(self.slant),np.cos(self.slant)]])\n",
    "        R = R_z@R_y@R_x\n",
    "        R_reverse = R.T\n",
    "        Lvec = R_reverse @ G_pos.vector()\n",
    "        Lpos = Pos(Lvec[0],Lvec[1],Lvec[2]) \n",
    "        return Lpos\n",
    "\n",
    "    def Angle_From_GCS_to_LCS(self, azimuth, elevation):\n",
    "        # unit vector coordinates of the path \n",
    "        x_G = np.sin(elevation) * np.cos(azimuth)\n",
    "        y_G = np.sin(elevation) * np.sin(azimuth)\n",
    "        z_G = np.cos(elevation)\n",
    "        G_pos = Pos(x_G,y_G,z_G)\n",
    "        Lpos = self.Coordinate_From_GCS_to_LCS(G_pos)\n",
    "        L_azimuth, L_elevation = Lpos.get_angle()\n",
    "        return L_azimuth, L_elevation\n",
    "        # \n"
   ]
  },
  {
   "cell_type": "code",
   "execution_count": 52,
   "metadata": {},
   "outputs": [],
   "source": [
    "\n",
    "class Transmitter():\n",
    "    def __init__(self, H_ant_num=4, V_ant_num=4, N_s=3, pos : Pos = Pos(0,0,10), bearing = 0*np.pi, downtilt = 0*np.pi, slant = 0*np.pi) -> None:\n",
    "        self.pos = pos\n",
    "        self.array = UPA(H_ant_num, V_ant_num, bearing = bearing, downtilt = downtilt, slant = slant)\n",
    "        self.Nt_H = H_ant_num\n",
    "        self.Nt_V = V_ant_num\n",
    "        self.N_s = N_s\n",
    "    def get_position(self,):\n",
    "        return self.pos\n",
    "    def set_position(self, pos : Pos):\n",
    "        self.pos = pos\n",
    "\n",
    "        \n",
    "class Receiver():\n",
    "    def __init__(self, H_ant_num=2, V_ant_num=2, N_s=3, pos : Pos = Pos(1,0,0), bearing = 1*np.pi, downtilt = 0*np.pi, slant = 0*np.pi) -> None:\n",
    "        self.array = UPA(H_ant_num, V_ant_num, bearing = bearing, downtilt = downtilt, slant = slant)\n",
    "        self.Nt_H = H_ant_num\n",
    "        self.Nt_V = V_ant_num\n",
    "        self.N_s = N_s\n",
    "        self.pos = pos\n",
    "\n",
    "    def get_position(self,):\n",
    "        return self.pos\n",
    "    def set_position(self, pos : Pos):\n",
    "        self.pos = pos\n",
    "\n"
   ]
  },
  {
   "cell_type": "code",
   "execution_count": 120,
   "metadata": {},
   "outputs": [
    {
     "data": {
      "text/plain": [
       "(3, 2)"
      ]
     },
     "execution_count": 120,
     "metadata": {},
     "output_type": "execute_result"
    }
   ],
   "source": [
    "def get_angle_from_A_to_B(a,b):\n",
    "        x,y,z = b[:,0]-a[:,0], b[:,1]-a[:,1], b[:,2]-a[:,2]\n",
    "        d = np.sqrt(x**2 + y**2 + z**2)\n",
    "        x = x/d\n",
    "        y = y/d\n",
    "        z = z/d\n",
    "        L_elevation = np.expand_dims(np.arccos(z), axis=-1)\n",
    "        L_azimuth = np.expand_dims(np.arctan(y/x),  axis=-1)\n",
    "        return np.concatenate([L_azimuth, L_elevation],axis=-1)\n",
    "get_angle_from_A_to_B(np.array([[0,0,0],[1,1,1],[1,0,1]]),np.array([[1,1,1],[2,2,2],[44,1,0]])).shape"
   ]
  },
  {
   "cell_type": "code",
   "execution_count": 182,
   "metadata": {},
   "outputs": [],
   "source": [
    "\n",
    "class Cluster():\n",
    "    def __init__(self, center : Pos = Pos(1,1,1), scatter_std : float = 0.5, N_ray = 10) -> None:\n",
    "        self.N_ray = N_ray\n",
    "        self.scatter_pos = np.array([center.vector() for i in range(N_ray)])\n",
    "        self.scatter_std = np.random.normal(loc=0, scale=scatter_std, size=[N_ray,3])\n",
    "        self.scatter_pos += self.scatter_std\n",
    "\n",
    "class Channel():\n",
    "    def __init__(self, tx : Transmitter, rx : Receiver, \\\n",
    "                 N_cluster : int, N_ray : int, realization : int) -> None:\n",
    "        self.tx = tx\n",
    "        self.rx = rx\n",
    "        self.Ns = tx.N_s\n",
    "        self.N_ray = N_ray\n",
    "        self.N_cluster = N_cluster\n",
    "        self.realization = realization\n",
    "        #\n",
    "        self.Nt = int(tx.Nt_H*tx.Nt_V)\n",
    "        self.Nr = int(rx.Nt_H*rx.Nt_V)\n",
    "        # initialize arrays\n",
    "        self.AoA = np.zeros((2, N_cluster*N_ray))\n",
    "        self.AoD = np.zeros((2, N_cluster*N_ray))\n",
    "        self.H = np.zeros((self.Nr,self.Nt,realization),dtype=np.complex64)\n",
    "        self.At = np.zeros((self.Nt,N_cluster*N_ray,realization),dtype=np.complex64)\n",
    "        self.Ar = np.zeros((self.Nr,N_cluster*N_ray,realization),dtype=np.complex64)\n",
    "        self.At_los = np.zeros((self.Nt,realization),dtype=np.complex64)\n",
    "        self.Ar_los = np.zeros((self.Nr,realization),dtype=np.complex64)\n",
    "        #\n",
    "        self.gamma = np.sqrt((tx.Nt_H*tx.Nt_V*rx.Nt_H*rx.Nt_V)/(N_cluster*N_ray)) # normalization factor\n",
    "        sigma = 1 # according to the normalization condition of the H\n",
    "        self.count = 0\n",
    "        #\n",
    "        K = 10 # Rican Factor\n",
    "        self.alpha = np.random.normal(0,np.sqrt(1/K*sigma/2),size=[N_cluster*N_ray,realization]) + 1j*np.random.normal(0,np.sqrt(1/K*sigma/2),size=[N_cluster*N_ray,realization])\n",
    "        self.los_alpha = np.random.normal(0,np.sqrt(sigma/2),size=[realization]) + 1j*np.random.normal(0,np.sqrt(sigma/2),size=[realization])\n",
    "        #\n",
    "        self.Fopt =  np.zeros((self.Nt,tx.N_s,realization),dtype=np.complex64)\n",
    "        self.Wopt =  np.zeros((self.Nr,tx.N_s,realization),dtype=np.complex64)\n",
    "        # simulation params\n",
    "        self.simulate()\n",
    "        self.calulate_R()\n",
    "\n",
    "    def simulate(self):    \n",
    "        for reali in range(self.realization):\n",
    "            # generate geographic scatter\n",
    "            cluster_z = np.random.uniform(low=-5+self.tx.pos.z,high=5+self.tx.pos.z,size=[self.N_cluster])\n",
    "            cluster_y = np.random.uniform(low=-self.rx.pos.y-5,high=self.rx.pos.y+5,size=[self.N_cluster])\n",
    "            cluster_x = np.random.uniform(low=2,high=self.rx.pos.x,size=[self.N_cluster])\n",
    "            cluster_center = [Pos(cluster_x[k],cluster_y[k],cluster_z[k]) for k in range(self.N_cluster)]\n",
    "            clusters = [Cluster(cluster_center[p], N_ray=self.N_ray) for p in range(self.N_cluster)]\n",
    "            self.scatters = np.concatenate([cluster.scatter_pos for cluster in clusters], axis=0)\n",
    "            self.starts = np.repeat(self.tx.pos.vector().reshape(1,3),len(self.scatters),axis=0)\n",
    "            self.ends = np.repeat(self.rx.pos.vector().reshape(1,3),len(self.scatters),axis=0)\n",
    "            # generate NLOS AOA AOD\n",
    "            self.AoD = get_angle_from_A_to_B(self.starts, self.scatters).transpose(1,0)\n",
    "            self.AoA = get_angle_from_A_to_B(self.ends, self.scatters).transpose(1,0)\n",
    "            # calculate LOS AOA AOD\n",
    "            self.LOS_AoD = get_angle_from_A_to_B(self.tx.pos.vector().reshape(1,3), self.rx.pos.vector().reshape(1,3)).transpose(1,0)\n",
    "            self.LOS_AoA = get_angle_from_A_to_B(self.rx.pos.vector().reshape(1,3), self.tx.pos.vector().reshape(1,3)).transpose(1,0)\n",
    "            # add LOS\n",
    "            self.At_los[:,reali] = self.tx.array.get_array_response(self.LOS_AoD[0],self.LOS_AoD[1]) # UPA array response\n",
    "            self.Ar_los[:,reali] = self.rx.array.get_array_response(self.LOS_AoA[0],self.LOS_AoA[1])\n",
    "            self.H[:,:,reali] = self.H[:,:,reali] + self.los_alpha[reali] * np.expand_dims(self.Ar_los[:,reali],axis=-1) @ np.expand_dims(np.conjugate(self.At_los[:,reali].T),axis=0)\n",
    "            # add NLOS\n",
    "            for j in range(0,self.N_cluster*self.N_ray):\n",
    "                self.At[:,j,reali] = self.tx.array.get_array_response(self.AoD[0,j],self.AoD[1,j]) # UPA array response\n",
    "                self.Ar[:,j,reali] = self.rx.array.get_array_response(self.AoA[0,j],self.AoA[1,j])\n",
    "                self.H[:,:,reali] = self.H[:,:,reali] + self.alpha[j,reali] * np.expand_dims(self.Ar[:,j,reali],axis=-1) @ np.expand_dims(np.conjugate(self.At[:,j,reali].T),axis=0)\n",
    "\n",
    "            self.H[:,:,reali] = self.gamma * self.H[:,:,reali]\n",
    "            \n",
    "            if(np.linalg.matrix_rank(self.H[:,:,reali])>=self.Ns):\n",
    "                self.count = self.count + 1\n",
    "                [U,S,V] = np.linalg.svd(self.H[:,:,reali],full_matrices=True)\n",
    "                self.Fopt[:,:,reali] = V[0:self.Nt,0:self.Ns]\n",
    "                self.Wopt[:,:,reali] = U[0:self.Nr,0:self.Ns]\n",
    "        print(self.count,\"RANK>Ns\")\n",
    "\n",
    "    def calulate_R(self,):\n",
    "        SNR_dB = np.arange(start=-20,stop=20,step=5)\n",
    "        SNR = 10**(SNR_dB/10)\n",
    "        self.Ro = np.zeros((SNR_dB.shape[0],self.realization))\n",
    "        for reali in range(self.realization):\n",
    "            for s in range(SNR_dB.shape[0]):\n",
    "                self.Ro[s,reali] = np.log2(np.linalg.det(np.eye(self.Ns) + SNR[s]/self.Ns * np.linalg.pinv(self.Wopt[:,:,reali]) @ self.H[:,:,reali] @ self.Fopt[:,:,reali] @ np.conjugate(self.Fopt[:,:,reali].T) @ np.conjugate(self.H[:,:,reali].T) @ self.Wopt[:,:,reali]))"
   ]
  },
  {
   "cell_type": "code",
   "execution_count": 179,
   "metadata": {},
   "outputs": [
    {
     "data": {
      "text/plain": [
       "(8,)"
      ]
     },
     "execution_count": 179,
     "metadata": {},
     "output_type": "execute_result"
    }
   ],
   "source": [
    "np.linalg.p"
   ]
  },
  {
   "cell_type": "code",
   "execution_count": 169,
   "metadata": {},
   "outputs": [],
   "source": [
    "tx = Transmitter(pos=Pos(0,0,10))\n",
    "rx = Receiver(pos=Pos(5,5,2))"
   ]
  },
  {
   "cell_type": "code",
   "execution_count": 183,
   "metadata": {},
   "outputs": [
    {
     "name": "stdout",
     "output_type": "stream",
     "text": [
      "10 RANK>Ns\n"
     ]
    },
    {
     "name": "stderr",
     "output_type": "stream",
     "text": [
      "/tmp/ipykernel_2116512/4001568596.py:85: ComplexWarning:\n",
      "\n",
      "Casting complex values to real discards the imaginary part\n",
      "\n"
     ]
    }
   ],
   "source": [
    "ch = Channel(tx,rx,N_cluster=5,N_ray=10,realization=10)"
   ]
  },
  {
   "cell_type": "code",
   "execution_count": 188,
   "metadata": {},
   "outputs": [
    {
     "data": {
      "text/plain": [
       "array([ 0.19038213,  0.5956846 ,  1.82437565,  5.27901432, 13.56797076,\n",
       "       29.33876958, 53.20776678, 83.98297669])"
      ]
     },
     "execution_count": 188,
     "metadata": {},
     "output_type": "execute_result"
    }
   ],
   "source": [
    "np.sum(ch.Ro, axis=-1)\n",
    "fig = go.Figure()\n",
    "fig.add_trace(go.Scatter(x=random_x, y=random_y0,\n",
    "                    mode='lines',\n",
    "                    name='lines'))\n",
    "fig.add_trace(go.Scatter(x=random_x, y=random_y1,\n",
    "                    mode='lines+markers',\n",
    "                    name='lines+markers'))\n",
    "fig.show()"
   ]
  },
  {
   "cell_type": "code",
   "execution_count": 176,
   "metadata": {},
   "outputs": [
    {
     "data": {
      "application/vnd.plotly.v1+json": {
       "config": {
        "plotlyServerURL": "https://plot.ly"
       },
       "data": [
        {
         "marker": {
          "color": [
           0,
           0,
           0,
           0,
           0,
           0,
           0,
           0,
           0,
           0,
           10,
           10,
           10,
           10,
           10,
           10,
           10,
           10,
           10,
           10,
           20,
           20,
           20,
           20,
           20,
           20,
           20,
           20,
           20,
           20,
           30,
           30,
           30,
           30,
           30,
           30,
           30,
           30,
           30,
           30,
           40,
           40,
           40,
           40,
           40,
           40,
           40,
           40,
           40,
           40
          ],
          "colorscale": [
           [
            0,
            "#ff0000"
           ],
           [
            0.1111111111111111,
            "#ffa700"
           ],
           [
            0.2222222222222222,
            "#afff00"
           ],
           [
            0.3333333333333333,
            "#08ff00"
           ],
           [
            0.4444444444444444,
            "#00ff9f"
           ],
           [
            0.5555555555555556,
            "#00b7ff"
           ],
           [
            0.6666666666666666,
            "#0010ff"
           ],
           [
            0.7777777777777778,
            "#9700ff"
           ],
           [
            0.8888888888888888,
            "#ff00bf"
           ],
           [
            1,
            "#ff0000"
           ]
          ],
          "opacity": 0.8,
          "size": 2
         },
         "mode": "markers",
         "type": "scatter3d",
         "x": [
          5.273298575401917,
          5.018466774055074,
          4.784758525591838,
          3.890964049035283,
          3.8733499862503065,
          4.22740234267684,
          4.593096170742907,
          3.690973613250215,
          4.02773513432357,
          4.169617430298032,
          3.7541061205346966,
          3.4946053491848317,
          2.412720818661941,
          3.4994421595786593,
          3.3787533503125533,
          4.0372657771090035,
          3.0615270287767884,
          3.618694206255737,
          4.281979375157931,
          4.295764345361329,
          3.3998245169105417,
          3.9446904954555686,
          3.404575925181189,
          2.4311844296882805,
          4.500583324676693,
          3.928080611267024,
          2.955778196588289,
          2.7711429727292667,
          3.671402929817201,
          3.412809745211496,
          1.7446057747430723,
          2.4433209988558597,
          2.537501678323606,
          2.699607624274371,
          2.0889570978278003,
          2.990932633640421,
          2.245969503969685,
          3.4516252256781925,
          2.9178896520832995,
          2.6021902142653754,
          3.0404192061271496,
          2.4966524368728145,
          2.0513760579456872,
          2.1065611932897035,
          1.9590906660974203,
          1.9404226527027895,
          2.7179296822223753,
          1.8374928981326994,
          2.7567124796279288,
          3.2282671752654144
         ],
         "y": [
          10.594742084211605,
          9.14433368568057,
          9.199611096243338,
          10.974566006609791,
          10.106838798483839,
          10.446437701648364,
          9.566252357320039,
          10.681044999156653,
          10.242061690660965,
          9.514589437608805,
          1.0865191112482993,
          1.2211226975558462,
          -0.19198234185336804,
          0.2979975504112551,
          -0.3988728621773252,
          0.5702559387576956,
          1.004068074850889,
          -0.04818487001146088,
          0.8947014633016501,
          0.023883946087219166,
          4.374616763506166,
          4.358329086553514,
          4.631836466809111,
          4.240220310095714,
          4.018456224367696,
          3.560371755303083,
          3.858208702057514,
          3.7852059374018268,
          4.018348170685438,
          4.324700220550556,
          4.788675562764926,
          3.649663974892827,
          4.2575612603259625,
          4.542590494078186,
          3.6338755777965175,
          5.0255407383758,
          4.758995175029741,
          2.90815203422907,
          3.802899623676764,
          3.1494265764024956,
          0.5831151236906172,
          1.4515082075984345,
          1.2481375825150987,
          0.8725774512798783,
          1.6756446324886731,
          0.9853413585422641,
          1.0575037886871193,
          1.2422322553882148,
          0.6766216768872444,
          0.7423895324386209
         ],
         "z": [
          8.803332626374214,
          8.194442702608256,
          8.85244468577682,
          8.70904105398729,
          9.397599378278734,
          8.501197100134286,
          8.954654744067764,
          9.198249941081318,
          8.656925700134948,
          8.817671654807604,
          8.997336063048586,
          8.212611453529659,
          8.073370838693108,
          8.652181502967434,
          8.094578820104461,
          8.943031473594619,
          7.856708699456156,
          7.197563427116508,
          9.489599556097643,
          8.18881355163876,
          10.025861832147362,
          10.323341211478827,
          10.774560800133695,
          9.957009722688285,
          10.901773654042465,
          10.291448992206709,
          9.863414237833997,
          9.484799960891415,
          9.865555095482096,
          10.30533749649882,
          12.036436880460649,
          11.496248119486447,
          12.499500439942354,
          12.53445811728429,
          12.337942708992381,
          12.24064351748165,
          12.347102476726961,
          11.83584902027809,
          11.827218761437381,
          12.304152626537476,
          15.121356566899278,
          14.314910390061188,
          14.042642289578007,
          14.177048456207995,
          14.338464655463989,
          14.543816891632918,
          14.386818997132899,
          13.595326984407318,
          14.738065094049947,
          15.443038269397977
         ]
        },
        {
         "marker": {
          "color": "blue",
          "line": {
           "width": 1
          },
          "size": 10,
          "symbol": "diamond"
         },
         "mode": "markers",
         "type": "scatter3d",
         "x": [
          0
         ],
         "y": [
          0
         ],
         "z": [
          10
         ]
        },
        {
         "marker": {
          "color": "pink",
          "line": {
           "width": 1
          },
          "size": 10,
          "symbol": "diamond"
         },
         "mode": "markers",
         "type": "scatter3d",
         "x": [
          5
         ],
         "y": [
          5
         ],
         "z": [
          2
         ]
        }
       ],
       "layout": {
        "template": {
         "data": {
          "bar": [
           {
            "error_x": {
             "color": "#2a3f5f"
            },
            "error_y": {
             "color": "#2a3f5f"
            },
            "marker": {
             "line": {
              "color": "#E5ECF6",
              "width": 0.5
             },
             "pattern": {
              "fillmode": "overlay",
              "size": 10,
              "solidity": 0.2
             }
            },
            "type": "bar"
           }
          ],
          "barpolar": [
           {
            "marker": {
             "line": {
              "color": "#E5ECF6",
              "width": 0.5
             },
             "pattern": {
              "fillmode": "overlay",
              "size": 10,
              "solidity": 0.2
             }
            },
            "type": "barpolar"
           }
          ],
          "carpet": [
           {
            "aaxis": {
             "endlinecolor": "#2a3f5f",
             "gridcolor": "white",
             "linecolor": "white",
             "minorgridcolor": "white",
             "startlinecolor": "#2a3f5f"
            },
            "baxis": {
             "endlinecolor": "#2a3f5f",
             "gridcolor": "white",
             "linecolor": "white",
             "minorgridcolor": "white",
             "startlinecolor": "#2a3f5f"
            },
            "type": "carpet"
           }
          ],
          "choropleth": [
           {
            "colorbar": {
             "outlinewidth": 0,
             "ticks": ""
            },
            "type": "choropleth"
           }
          ],
          "contour": [
           {
            "colorbar": {
             "outlinewidth": 0,
             "ticks": ""
            },
            "colorscale": [
             [
              0,
              "#0d0887"
             ],
             [
              0.1111111111111111,
              "#46039f"
             ],
             [
              0.2222222222222222,
              "#7201a8"
             ],
             [
              0.3333333333333333,
              "#9c179e"
             ],
             [
              0.4444444444444444,
              "#bd3786"
             ],
             [
              0.5555555555555556,
              "#d8576b"
             ],
             [
              0.6666666666666666,
              "#ed7953"
             ],
             [
              0.7777777777777778,
              "#fb9f3a"
             ],
             [
              0.8888888888888888,
              "#fdca26"
             ],
             [
              1,
              "#f0f921"
             ]
            ],
            "type": "contour"
           }
          ],
          "contourcarpet": [
           {
            "colorbar": {
             "outlinewidth": 0,
             "ticks": ""
            },
            "type": "contourcarpet"
           }
          ],
          "heatmap": [
           {
            "colorbar": {
             "outlinewidth": 0,
             "ticks": ""
            },
            "colorscale": [
             [
              0,
              "#0d0887"
             ],
             [
              0.1111111111111111,
              "#46039f"
             ],
             [
              0.2222222222222222,
              "#7201a8"
             ],
             [
              0.3333333333333333,
              "#9c179e"
             ],
             [
              0.4444444444444444,
              "#bd3786"
             ],
             [
              0.5555555555555556,
              "#d8576b"
             ],
             [
              0.6666666666666666,
              "#ed7953"
             ],
             [
              0.7777777777777778,
              "#fb9f3a"
             ],
             [
              0.8888888888888888,
              "#fdca26"
             ],
             [
              1,
              "#f0f921"
             ]
            ],
            "type": "heatmap"
           }
          ],
          "heatmapgl": [
           {
            "colorbar": {
             "outlinewidth": 0,
             "ticks": ""
            },
            "colorscale": [
             [
              0,
              "#0d0887"
             ],
             [
              0.1111111111111111,
              "#46039f"
             ],
             [
              0.2222222222222222,
              "#7201a8"
             ],
             [
              0.3333333333333333,
              "#9c179e"
             ],
             [
              0.4444444444444444,
              "#bd3786"
             ],
             [
              0.5555555555555556,
              "#d8576b"
             ],
             [
              0.6666666666666666,
              "#ed7953"
             ],
             [
              0.7777777777777778,
              "#fb9f3a"
             ],
             [
              0.8888888888888888,
              "#fdca26"
             ],
             [
              1,
              "#f0f921"
             ]
            ],
            "type": "heatmapgl"
           }
          ],
          "histogram": [
           {
            "marker": {
             "pattern": {
              "fillmode": "overlay",
              "size": 10,
              "solidity": 0.2
             }
            },
            "type": "histogram"
           }
          ],
          "histogram2d": [
           {
            "colorbar": {
             "outlinewidth": 0,
             "ticks": ""
            },
            "colorscale": [
             [
              0,
              "#0d0887"
             ],
             [
              0.1111111111111111,
              "#46039f"
             ],
             [
              0.2222222222222222,
              "#7201a8"
             ],
             [
              0.3333333333333333,
              "#9c179e"
             ],
             [
              0.4444444444444444,
              "#bd3786"
             ],
             [
              0.5555555555555556,
              "#d8576b"
             ],
             [
              0.6666666666666666,
              "#ed7953"
             ],
             [
              0.7777777777777778,
              "#fb9f3a"
             ],
             [
              0.8888888888888888,
              "#fdca26"
             ],
             [
              1,
              "#f0f921"
             ]
            ],
            "type": "histogram2d"
           }
          ],
          "histogram2dcontour": [
           {
            "colorbar": {
             "outlinewidth": 0,
             "ticks": ""
            },
            "colorscale": [
             [
              0,
              "#0d0887"
             ],
             [
              0.1111111111111111,
              "#46039f"
             ],
             [
              0.2222222222222222,
              "#7201a8"
             ],
             [
              0.3333333333333333,
              "#9c179e"
             ],
             [
              0.4444444444444444,
              "#bd3786"
             ],
             [
              0.5555555555555556,
              "#d8576b"
             ],
             [
              0.6666666666666666,
              "#ed7953"
             ],
             [
              0.7777777777777778,
              "#fb9f3a"
             ],
             [
              0.8888888888888888,
              "#fdca26"
             ],
             [
              1,
              "#f0f921"
             ]
            ],
            "type": "histogram2dcontour"
           }
          ],
          "mesh3d": [
           {
            "colorbar": {
             "outlinewidth": 0,
             "ticks": ""
            },
            "type": "mesh3d"
           }
          ],
          "parcoords": [
           {
            "line": {
             "colorbar": {
              "outlinewidth": 0,
              "ticks": ""
             }
            },
            "type": "parcoords"
           }
          ],
          "pie": [
           {
            "automargin": true,
            "type": "pie"
           }
          ],
          "scatter": [
           {
            "fillpattern": {
             "fillmode": "overlay",
             "size": 10,
             "solidity": 0.2
            },
            "type": "scatter"
           }
          ],
          "scatter3d": [
           {
            "line": {
             "colorbar": {
              "outlinewidth": 0,
              "ticks": ""
             }
            },
            "marker": {
             "colorbar": {
              "outlinewidth": 0,
              "ticks": ""
             }
            },
            "type": "scatter3d"
           }
          ],
          "scattercarpet": [
           {
            "marker": {
             "colorbar": {
              "outlinewidth": 0,
              "ticks": ""
             }
            },
            "type": "scattercarpet"
           }
          ],
          "scattergeo": [
           {
            "marker": {
             "colorbar": {
              "outlinewidth": 0,
              "ticks": ""
             }
            },
            "type": "scattergeo"
           }
          ],
          "scattergl": [
           {
            "marker": {
             "colorbar": {
              "outlinewidth": 0,
              "ticks": ""
             }
            },
            "type": "scattergl"
           }
          ],
          "scattermapbox": [
           {
            "marker": {
             "colorbar": {
              "outlinewidth": 0,
              "ticks": ""
             }
            },
            "type": "scattermapbox"
           }
          ],
          "scatterpolar": [
           {
            "marker": {
             "colorbar": {
              "outlinewidth": 0,
              "ticks": ""
             }
            },
            "type": "scatterpolar"
           }
          ],
          "scatterpolargl": [
           {
            "marker": {
             "colorbar": {
              "outlinewidth": 0,
              "ticks": ""
             }
            },
            "type": "scatterpolargl"
           }
          ],
          "scatterternary": [
           {
            "marker": {
             "colorbar": {
              "outlinewidth": 0,
              "ticks": ""
             }
            },
            "type": "scatterternary"
           }
          ],
          "surface": [
           {
            "colorbar": {
             "outlinewidth": 0,
             "ticks": ""
            },
            "colorscale": [
             [
              0,
              "#0d0887"
             ],
             [
              0.1111111111111111,
              "#46039f"
             ],
             [
              0.2222222222222222,
              "#7201a8"
             ],
             [
              0.3333333333333333,
              "#9c179e"
             ],
             [
              0.4444444444444444,
              "#bd3786"
             ],
             [
              0.5555555555555556,
              "#d8576b"
             ],
             [
              0.6666666666666666,
              "#ed7953"
             ],
             [
              0.7777777777777778,
              "#fb9f3a"
             ],
             [
              0.8888888888888888,
              "#fdca26"
             ],
             [
              1,
              "#f0f921"
             ]
            ],
            "type": "surface"
           }
          ],
          "table": [
           {
            "cells": {
             "fill": {
              "color": "#EBF0F8"
             },
             "line": {
              "color": "white"
             }
            },
            "header": {
             "fill": {
              "color": "#C8D4E3"
             },
             "line": {
              "color": "white"
             }
            },
            "type": "table"
           }
          ]
         },
         "layout": {
          "annotationdefaults": {
           "arrowcolor": "#2a3f5f",
           "arrowhead": 0,
           "arrowwidth": 1
          },
          "autotypenumbers": "strict",
          "coloraxis": {
           "colorbar": {
            "outlinewidth": 0,
            "ticks": ""
           }
          },
          "colorscale": {
           "diverging": [
            [
             0,
             "#8e0152"
            ],
            [
             0.1,
             "#c51b7d"
            ],
            [
             0.2,
             "#de77ae"
            ],
            [
             0.3,
             "#f1b6da"
            ],
            [
             0.4,
             "#fde0ef"
            ],
            [
             0.5,
             "#f7f7f7"
            ],
            [
             0.6,
             "#e6f5d0"
            ],
            [
             0.7,
             "#b8e186"
            ],
            [
             0.8,
             "#7fbc41"
            ],
            [
             0.9,
             "#4d9221"
            ],
            [
             1,
             "#276419"
            ]
           ],
           "sequential": [
            [
             0,
             "#0d0887"
            ],
            [
             0.1111111111111111,
             "#46039f"
            ],
            [
             0.2222222222222222,
             "#7201a8"
            ],
            [
             0.3333333333333333,
             "#9c179e"
            ],
            [
             0.4444444444444444,
             "#bd3786"
            ],
            [
             0.5555555555555556,
             "#d8576b"
            ],
            [
             0.6666666666666666,
             "#ed7953"
            ],
            [
             0.7777777777777778,
             "#fb9f3a"
            ],
            [
             0.8888888888888888,
             "#fdca26"
            ],
            [
             1,
             "#f0f921"
            ]
           ],
           "sequentialminus": [
            [
             0,
             "#0d0887"
            ],
            [
             0.1111111111111111,
             "#46039f"
            ],
            [
             0.2222222222222222,
             "#7201a8"
            ],
            [
             0.3333333333333333,
             "#9c179e"
            ],
            [
             0.4444444444444444,
             "#bd3786"
            ],
            [
             0.5555555555555556,
             "#d8576b"
            ],
            [
             0.6666666666666666,
             "#ed7953"
            ],
            [
             0.7777777777777778,
             "#fb9f3a"
            ],
            [
             0.8888888888888888,
             "#fdca26"
            ],
            [
             1,
             "#f0f921"
            ]
           ]
          },
          "colorway": [
           "#636efa",
           "#EF553B",
           "#00cc96",
           "#ab63fa",
           "#FFA15A",
           "#19d3f3",
           "#FF6692",
           "#B6E880",
           "#FF97FF",
           "#FECB52"
          ],
          "font": {
           "color": "#2a3f5f"
          },
          "geo": {
           "bgcolor": "white",
           "lakecolor": "white",
           "landcolor": "#E5ECF6",
           "showlakes": true,
           "showland": true,
           "subunitcolor": "white"
          },
          "hoverlabel": {
           "align": "left"
          },
          "hovermode": "closest",
          "mapbox": {
           "style": "light"
          },
          "paper_bgcolor": "white",
          "plot_bgcolor": "#E5ECF6",
          "polar": {
           "angularaxis": {
            "gridcolor": "white",
            "linecolor": "white",
            "ticks": ""
           },
           "bgcolor": "#E5ECF6",
           "radialaxis": {
            "gridcolor": "white",
            "linecolor": "white",
            "ticks": ""
           }
          },
          "scene": {
           "xaxis": {
            "backgroundcolor": "#E5ECF6",
            "gridcolor": "white",
            "gridwidth": 2,
            "linecolor": "white",
            "showbackground": true,
            "ticks": "",
            "zerolinecolor": "white"
           },
           "yaxis": {
            "backgroundcolor": "#E5ECF6",
            "gridcolor": "white",
            "gridwidth": 2,
            "linecolor": "white",
            "showbackground": true,
            "ticks": "",
            "zerolinecolor": "white"
           },
           "zaxis": {
            "backgroundcolor": "#E5ECF6",
            "gridcolor": "white",
            "gridwidth": 2,
            "linecolor": "white",
            "showbackground": true,
            "ticks": "",
            "zerolinecolor": "white"
           }
          },
          "shapedefaults": {
           "line": {
            "color": "#2a3f5f"
           }
          },
          "ternary": {
           "aaxis": {
            "gridcolor": "white",
            "linecolor": "white",
            "ticks": ""
           },
           "baxis": {
            "gridcolor": "white",
            "linecolor": "white",
            "ticks": ""
           },
           "bgcolor": "#E5ECF6",
           "caxis": {
            "gridcolor": "white",
            "linecolor": "white",
            "ticks": ""
           }
          },
          "title": {
           "x": 0.05
          },
          "xaxis": {
           "automargin": true,
           "gridcolor": "white",
           "linecolor": "white",
           "ticks": "",
           "title": {
            "standoff": 15
           },
           "zerolinecolor": "white",
           "zerolinewidth": 2
          },
          "yaxis": {
           "automargin": true,
           "gridcolor": "white",
           "linecolor": "white",
           "ticks": "",
           "title": {
            "standoff": 15
           },
           "zerolinecolor": "white",
           "zerolinewidth": 2
          }
         }
        }
       }
      },
      "text/html": [
       "<div>                            <div id=\"5ca624c6-e5da-4ad8-a950-0401ad293284\" class=\"plotly-graph-div\" style=\"height:525px; width:100%;\"></div>            <script type=\"text/javascript\">                require([\"plotly\"], function(Plotly) {                    window.PLOTLYENV=window.PLOTLYENV || {};                                    if (document.getElementById(\"5ca624c6-e5da-4ad8-a950-0401ad293284\")) {                    Plotly.newPlot(                        \"5ca624c6-e5da-4ad8-a950-0401ad293284\",                        [{\"marker\":{\"color\":[0.0,0.0,0.0,0.0,0.0,0.0,0.0,0.0,0.0,0.0,10.0,10.0,10.0,10.0,10.0,10.0,10.0,10.0,10.0,10.0,20.0,20.0,20.0,20.0,20.0,20.0,20.0,20.0,20.0,20.0,30.0,30.0,30.0,30.0,30.0,30.0,30.0,30.0,30.0,30.0,40.0,40.0,40.0,40.0,40.0,40.0,40.0,40.0,40.0,40.0],\"colorscale\":[[0.0,\"#ff0000\"],[0.1111111111111111,\"#ffa700\"],[0.2222222222222222,\"#afff00\"],[0.3333333333333333,\"#08ff00\"],[0.4444444444444444,\"#00ff9f\"],[0.5555555555555556,\"#00b7ff\"],[0.6666666666666666,\"#0010ff\"],[0.7777777777777778,\"#9700ff\"],[0.8888888888888888,\"#ff00bf\"],[1.0,\"#ff0000\"]],\"opacity\":0.8,\"size\":2},\"mode\":\"markers\",\"x\":[5.273298575401917,5.018466774055074,4.784758525591838,3.890964049035283,3.8733499862503065,4.22740234267684,4.593096170742907,3.690973613250215,4.02773513432357,4.169617430298032,3.7541061205346966,3.4946053491848317,2.412720818661941,3.4994421595786593,3.3787533503125533,4.0372657771090035,3.0615270287767884,3.618694206255737,4.281979375157931,4.295764345361329,3.3998245169105417,3.9446904954555686,3.404575925181189,2.4311844296882805,4.500583324676693,3.928080611267024,2.955778196588289,2.7711429727292667,3.671402929817201,3.412809745211496,1.7446057747430723,2.4433209988558597,2.537501678323606,2.699607624274371,2.0889570978278003,2.990932633640421,2.245969503969685,3.4516252256781925,2.9178896520832995,2.6021902142653754,3.0404192061271496,2.4966524368728145,2.0513760579456872,2.1065611932897035,1.9590906660974203,1.9404226527027895,2.7179296822223753,1.8374928981326994,2.7567124796279288,3.2282671752654144],\"y\":[10.594742084211605,9.14433368568057,9.199611096243338,10.974566006609791,10.106838798483839,10.446437701648364,9.566252357320039,10.681044999156653,10.242061690660965,9.514589437608805,1.0865191112482993,1.2211226975558462,-0.19198234185336804,0.2979975504112551,-0.3988728621773252,0.5702559387576956,1.004068074850889,-0.04818487001146088,0.8947014633016501,0.023883946087219166,4.374616763506166,4.358329086553514,4.631836466809111,4.240220310095714,4.018456224367696,3.560371755303083,3.858208702057514,3.7852059374018268,4.018348170685438,4.324700220550556,4.788675562764926,3.649663974892827,4.2575612603259625,4.542590494078186,3.6338755777965175,5.0255407383758,4.758995175029741,2.90815203422907,3.802899623676764,3.1494265764024956,0.5831151236906172,1.4515082075984345,1.2481375825150987,0.8725774512798783,1.6756446324886731,0.9853413585422641,1.0575037886871193,1.2422322553882148,0.6766216768872444,0.7423895324386209],\"z\":[8.803332626374214,8.194442702608256,8.85244468577682,8.70904105398729,9.397599378278734,8.501197100134286,8.954654744067764,9.198249941081318,8.656925700134948,8.817671654807604,8.997336063048586,8.212611453529659,8.073370838693108,8.652181502967434,8.094578820104461,8.943031473594619,7.856708699456156,7.197563427116508,9.489599556097643,8.18881355163876,10.025861832147362,10.323341211478827,10.774560800133695,9.957009722688285,10.901773654042465,10.291448992206709,9.863414237833997,9.484799960891415,9.865555095482096,10.30533749649882,12.036436880460649,11.496248119486447,12.499500439942354,12.53445811728429,12.337942708992381,12.24064351748165,12.347102476726961,11.83584902027809,11.827218761437381,12.304152626537476,15.121356566899278,14.314910390061188,14.042642289578007,14.177048456207995,14.338464655463989,14.543816891632918,14.386818997132899,13.595326984407318,14.738065094049947,15.443038269397977],\"type\":\"scatter3d\"},{\"marker\":{\"color\":\"blue\",\"line\":{\"width\":1},\"size\":10,\"symbol\":\"diamond\"},\"mode\":\"markers\",\"x\":[0],\"y\":[0],\"z\":[10],\"type\":\"scatter3d\"},{\"marker\":{\"color\":\"pink\",\"line\":{\"width\":1},\"size\":10,\"symbol\":\"diamond\"},\"mode\":\"markers\",\"x\":[5],\"y\":[5],\"z\":[2],\"type\":\"scatter3d\"}],                        {\"template\":{\"data\":{\"histogram2dcontour\":[{\"type\":\"histogram2dcontour\",\"colorbar\":{\"outlinewidth\":0,\"ticks\":\"\"},\"colorscale\":[[0.0,\"#0d0887\"],[0.1111111111111111,\"#46039f\"],[0.2222222222222222,\"#7201a8\"],[0.3333333333333333,\"#9c179e\"],[0.4444444444444444,\"#bd3786\"],[0.5555555555555556,\"#d8576b\"],[0.6666666666666666,\"#ed7953\"],[0.7777777777777778,\"#fb9f3a\"],[0.8888888888888888,\"#fdca26\"],[1.0,\"#f0f921\"]]}],\"choropleth\":[{\"type\":\"choropleth\",\"colorbar\":{\"outlinewidth\":0,\"ticks\":\"\"}}],\"histogram2d\":[{\"type\":\"histogram2d\",\"colorbar\":{\"outlinewidth\":0,\"ticks\":\"\"},\"colorscale\":[[0.0,\"#0d0887\"],[0.1111111111111111,\"#46039f\"],[0.2222222222222222,\"#7201a8\"],[0.3333333333333333,\"#9c179e\"],[0.4444444444444444,\"#bd3786\"],[0.5555555555555556,\"#d8576b\"],[0.6666666666666666,\"#ed7953\"],[0.7777777777777778,\"#fb9f3a\"],[0.8888888888888888,\"#fdca26\"],[1.0,\"#f0f921\"]]}],\"heatmap\":[{\"type\":\"heatmap\",\"colorbar\":{\"outlinewidth\":0,\"ticks\":\"\"},\"colorscale\":[[0.0,\"#0d0887\"],[0.1111111111111111,\"#46039f\"],[0.2222222222222222,\"#7201a8\"],[0.3333333333333333,\"#9c179e\"],[0.4444444444444444,\"#bd3786\"],[0.5555555555555556,\"#d8576b\"],[0.6666666666666666,\"#ed7953\"],[0.7777777777777778,\"#fb9f3a\"],[0.8888888888888888,\"#fdca26\"],[1.0,\"#f0f921\"]]}],\"heatmapgl\":[{\"type\":\"heatmapgl\",\"colorbar\":{\"outlinewidth\":0,\"ticks\":\"\"},\"colorscale\":[[0.0,\"#0d0887\"],[0.1111111111111111,\"#46039f\"],[0.2222222222222222,\"#7201a8\"],[0.3333333333333333,\"#9c179e\"],[0.4444444444444444,\"#bd3786\"],[0.5555555555555556,\"#d8576b\"],[0.6666666666666666,\"#ed7953\"],[0.7777777777777778,\"#fb9f3a\"],[0.8888888888888888,\"#fdca26\"],[1.0,\"#f0f921\"]]}],\"contourcarpet\":[{\"type\":\"contourcarpet\",\"colorbar\":{\"outlinewidth\":0,\"ticks\":\"\"}}],\"contour\":[{\"type\":\"contour\",\"colorbar\":{\"outlinewidth\":0,\"ticks\":\"\"},\"colorscale\":[[0.0,\"#0d0887\"],[0.1111111111111111,\"#46039f\"],[0.2222222222222222,\"#7201a8\"],[0.3333333333333333,\"#9c179e\"],[0.4444444444444444,\"#bd3786\"],[0.5555555555555556,\"#d8576b\"],[0.6666666666666666,\"#ed7953\"],[0.7777777777777778,\"#fb9f3a\"],[0.8888888888888888,\"#fdca26\"],[1.0,\"#f0f921\"]]}],\"surface\":[{\"type\":\"surface\",\"colorbar\":{\"outlinewidth\":0,\"ticks\":\"\"},\"colorscale\":[[0.0,\"#0d0887\"],[0.1111111111111111,\"#46039f\"],[0.2222222222222222,\"#7201a8\"],[0.3333333333333333,\"#9c179e\"],[0.4444444444444444,\"#bd3786\"],[0.5555555555555556,\"#d8576b\"],[0.6666666666666666,\"#ed7953\"],[0.7777777777777778,\"#fb9f3a\"],[0.8888888888888888,\"#fdca26\"],[1.0,\"#f0f921\"]]}],\"mesh3d\":[{\"type\":\"mesh3d\",\"colorbar\":{\"outlinewidth\":0,\"ticks\":\"\"}}],\"scatter\":[{\"fillpattern\":{\"fillmode\":\"overlay\",\"size\":10,\"solidity\":0.2},\"type\":\"scatter\"}],\"parcoords\":[{\"type\":\"parcoords\",\"line\":{\"colorbar\":{\"outlinewidth\":0,\"ticks\":\"\"}}}],\"scatterpolargl\":[{\"type\":\"scatterpolargl\",\"marker\":{\"colorbar\":{\"outlinewidth\":0,\"ticks\":\"\"}}}],\"bar\":[{\"error_x\":{\"color\":\"#2a3f5f\"},\"error_y\":{\"color\":\"#2a3f5f\"},\"marker\":{\"line\":{\"color\":\"#E5ECF6\",\"width\":0.5},\"pattern\":{\"fillmode\":\"overlay\",\"size\":10,\"solidity\":0.2}},\"type\":\"bar\"}],\"scattergeo\":[{\"type\":\"scattergeo\",\"marker\":{\"colorbar\":{\"outlinewidth\":0,\"ticks\":\"\"}}}],\"scatterpolar\":[{\"type\":\"scatterpolar\",\"marker\":{\"colorbar\":{\"outlinewidth\":0,\"ticks\":\"\"}}}],\"histogram\":[{\"marker\":{\"pattern\":{\"fillmode\":\"overlay\",\"size\":10,\"solidity\":0.2}},\"type\":\"histogram\"}],\"scattergl\":[{\"type\":\"scattergl\",\"marker\":{\"colorbar\":{\"outlinewidth\":0,\"ticks\":\"\"}}}],\"scatter3d\":[{\"type\":\"scatter3d\",\"line\":{\"colorbar\":{\"outlinewidth\":0,\"ticks\":\"\"}},\"marker\":{\"colorbar\":{\"outlinewidth\":0,\"ticks\":\"\"}}}],\"scattermapbox\":[{\"type\":\"scattermapbox\",\"marker\":{\"colorbar\":{\"outlinewidth\":0,\"ticks\":\"\"}}}],\"scatterternary\":[{\"type\":\"scatterternary\",\"marker\":{\"colorbar\":{\"outlinewidth\":0,\"ticks\":\"\"}}}],\"scattercarpet\":[{\"type\":\"scattercarpet\",\"marker\":{\"colorbar\":{\"outlinewidth\":0,\"ticks\":\"\"}}}],\"carpet\":[{\"aaxis\":{\"endlinecolor\":\"#2a3f5f\",\"gridcolor\":\"white\",\"linecolor\":\"white\",\"minorgridcolor\":\"white\",\"startlinecolor\":\"#2a3f5f\"},\"baxis\":{\"endlinecolor\":\"#2a3f5f\",\"gridcolor\":\"white\",\"linecolor\":\"white\",\"minorgridcolor\":\"white\",\"startlinecolor\":\"#2a3f5f\"},\"type\":\"carpet\"}],\"table\":[{\"cells\":{\"fill\":{\"color\":\"#EBF0F8\"},\"line\":{\"color\":\"white\"}},\"header\":{\"fill\":{\"color\":\"#C8D4E3\"},\"line\":{\"color\":\"white\"}},\"type\":\"table\"}],\"barpolar\":[{\"marker\":{\"line\":{\"color\":\"#E5ECF6\",\"width\":0.5},\"pattern\":{\"fillmode\":\"overlay\",\"size\":10,\"solidity\":0.2}},\"type\":\"barpolar\"}],\"pie\":[{\"automargin\":true,\"type\":\"pie\"}]},\"layout\":{\"autotypenumbers\":\"strict\",\"colorway\":[\"#636efa\",\"#EF553B\",\"#00cc96\",\"#ab63fa\",\"#FFA15A\",\"#19d3f3\",\"#FF6692\",\"#B6E880\",\"#FF97FF\",\"#FECB52\"],\"font\":{\"color\":\"#2a3f5f\"},\"hovermode\":\"closest\",\"hoverlabel\":{\"align\":\"left\"},\"paper_bgcolor\":\"white\",\"plot_bgcolor\":\"#E5ECF6\",\"polar\":{\"bgcolor\":\"#E5ECF6\",\"angularaxis\":{\"gridcolor\":\"white\",\"linecolor\":\"white\",\"ticks\":\"\"},\"radialaxis\":{\"gridcolor\":\"white\",\"linecolor\":\"white\",\"ticks\":\"\"}},\"ternary\":{\"bgcolor\":\"#E5ECF6\",\"aaxis\":{\"gridcolor\":\"white\",\"linecolor\":\"white\",\"ticks\":\"\"},\"baxis\":{\"gridcolor\":\"white\",\"linecolor\":\"white\",\"ticks\":\"\"},\"caxis\":{\"gridcolor\":\"white\",\"linecolor\":\"white\",\"ticks\":\"\"}},\"coloraxis\":{\"colorbar\":{\"outlinewidth\":0,\"ticks\":\"\"}},\"colorscale\":{\"sequential\":[[0.0,\"#0d0887\"],[0.1111111111111111,\"#46039f\"],[0.2222222222222222,\"#7201a8\"],[0.3333333333333333,\"#9c179e\"],[0.4444444444444444,\"#bd3786\"],[0.5555555555555556,\"#d8576b\"],[0.6666666666666666,\"#ed7953\"],[0.7777777777777778,\"#fb9f3a\"],[0.8888888888888888,\"#fdca26\"],[1.0,\"#f0f921\"]],\"sequentialminus\":[[0.0,\"#0d0887\"],[0.1111111111111111,\"#46039f\"],[0.2222222222222222,\"#7201a8\"],[0.3333333333333333,\"#9c179e\"],[0.4444444444444444,\"#bd3786\"],[0.5555555555555556,\"#d8576b\"],[0.6666666666666666,\"#ed7953\"],[0.7777777777777778,\"#fb9f3a\"],[0.8888888888888888,\"#fdca26\"],[1.0,\"#f0f921\"]],\"diverging\":[[0,\"#8e0152\"],[0.1,\"#c51b7d\"],[0.2,\"#de77ae\"],[0.3,\"#f1b6da\"],[0.4,\"#fde0ef\"],[0.5,\"#f7f7f7\"],[0.6,\"#e6f5d0\"],[0.7,\"#b8e186\"],[0.8,\"#7fbc41\"],[0.9,\"#4d9221\"],[1,\"#276419\"]]},\"xaxis\":{\"gridcolor\":\"white\",\"linecolor\":\"white\",\"ticks\":\"\",\"title\":{\"standoff\":15},\"zerolinecolor\":\"white\",\"automargin\":true,\"zerolinewidth\":2},\"yaxis\":{\"gridcolor\":\"white\",\"linecolor\":\"white\",\"ticks\":\"\",\"title\":{\"standoff\":15},\"zerolinecolor\":\"white\",\"automargin\":true,\"zerolinewidth\":2},\"scene\":{\"xaxis\":{\"backgroundcolor\":\"#E5ECF6\",\"gridcolor\":\"white\",\"linecolor\":\"white\",\"showbackground\":true,\"ticks\":\"\",\"zerolinecolor\":\"white\",\"gridwidth\":2},\"yaxis\":{\"backgroundcolor\":\"#E5ECF6\",\"gridcolor\":\"white\",\"linecolor\":\"white\",\"showbackground\":true,\"ticks\":\"\",\"zerolinecolor\":\"white\",\"gridwidth\":2},\"zaxis\":{\"backgroundcolor\":\"#E5ECF6\",\"gridcolor\":\"white\",\"linecolor\":\"white\",\"showbackground\":true,\"ticks\":\"\",\"zerolinecolor\":\"white\",\"gridwidth\":2}},\"shapedefaults\":{\"line\":{\"color\":\"#2a3f5f\"}},\"annotationdefaults\":{\"arrowcolor\":\"#2a3f5f\",\"arrowhead\":0,\"arrowwidth\":1},\"geo\":{\"bgcolor\":\"white\",\"landcolor\":\"#E5ECF6\",\"subunitcolor\":\"white\",\"showland\":true,\"showlakes\":true,\"lakecolor\":\"white\"},\"title\":{\"x\":0.05},\"mapbox\":{\"style\":\"light\"}}}},                        {\"responsive\": true}                    ).then(function(){\n",
       "                            \n",
       "var gd = document.getElementById('5ca624c6-e5da-4ad8-a950-0401ad293284');\n",
       "var x = new MutationObserver(function (mutations, observer) {{\n",
       "        var display = window.getComputedStyle(gd).display;\n",
       "        if (!display || display === 'none') {{\n",
       "            console.log([gd, 'removed!']);\n",
       "            Plotly.purge(gd);\n",
       "            observer.disconnect();\n",
       "        }}\n",
       "}});\n",
       "\n",
       "// Listen for the removal of the full notebook cells\n",
       "var notebookContainer = gd.closest('#notebook-container');\n",
       "if (notebookContainer) {{\n",
       "    x.observe(notebookContainer, {childList: true});\n",
       "}}\n",
       "\n",
       "// Listen for the clearing of the current output cell\n",
       "var outputEl = gd.closest('.output');\n",
       "if (outputEl) {{\n",
       "    x.observe(outputEl, {childList: true});\n",
       "}}\n",
       "\n",
       "                        })                };                });            </script>        </div>"
      ]
     },
     "metadata": {},
     "output_type": "display_data"
    }
   ],
   "source": [
    "import plotly.express as px\n",
    "import plotly.graph_objects as go\n",
    "x, y, z = ch.scatters[:,0],ch.scatters[:,1],ch.scatters[:,2]\n",
    "c = np.kron(np.arange(ch.N_cluster),10*np.ones(ch.N_ray))\n",
    "fig = go.Figure()\n",
    "fig.add_trace(go.Scatter3d(x=x, y=y, z=z,\n",
    "                                   mode='markers',\n",
    "                                   marker=dict(\n",
    "                                    size=2,\n",
    "                                    color=c,                # set color to an array/list of desired values\n",
    "                                    colorscale='hsv',   # choose a colorscale\n",
    "                                    opacity=0.8)))\n",
    "fig.add_trace(go.Scatter3d(x=[ch.tx.pos.x], y=[ch.tx.pos.y], z=[ch.tx.pos.z],\n",
    "                                   mode='markers',\n",
    "                                   marker=dict(\n",
    "                                    size=10,\n",
    "                                    line_width=1,\n",
    "                                    color='blue',\n",
    "                                    symbol='diamond')))\n",
    "fig.add_trace(go.Scatter3d(x=[ch.rx.pos.x], y=[ch.rx.pos.y], z=[ch.rx.pos.z],\n",
    "                                   mode='markers',\n",
    "                                   marker=dict(\n",
    "                                    size=10,\n",
    "                                    line_width=1,\n",
    "                                    color='pink',\n",
    "                                    symbol='diamond')))\n",
    "\n",
    "fig.show()"
   ]
  }
 ],
 "metadata": {
  "kernelspec": {
   "display_name": "Python 3.10.4 ('pytorch_env')",
   "language": "python",
   "name": "python3"
  },
  "language_info": {
   "codemirror_mode": {
    "name": "ipython",
    "version": 3
   },
   "file_extension": ".py",
   "mimetype": "text/x-python",
   "name": "python",
   "nbconvert_exporter": "python",
   "pygments_lexer": "ipython3",
   "version": "3.10.4"
  },
  "orig_nbformat": 4,
  "vscode": {
   "interpreter": {
    "hash": "d5d9f781454c056a6218b73ddbc0804c3344546beed30fcf0c196191c26068f2"
   }
  }
 },
 "nbformat": 4,
 "nbformat_minor": 2
}
