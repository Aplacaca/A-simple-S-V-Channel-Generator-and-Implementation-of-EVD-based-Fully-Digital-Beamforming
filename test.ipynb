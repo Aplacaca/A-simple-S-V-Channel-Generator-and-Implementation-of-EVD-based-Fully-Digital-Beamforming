{
 "cells": [
  {
   "cell_type": "code",
   "execution_count": 3,
   "metadata": {},
   "outputs": [],
   "source": [
    "import numpy as np\n",
    "import math\n",
    "from matplotlib import pyplot as plt"
   ]
  },
  {
   "cell_type": "code",
   "execution_count": 2,
   "metadata": {},
   "outputs": [],
   "source": [
    "\n",
    "def beamspace_channel(M, K, L, angle=0):\n",
    "    \"\"\"M 天线数   K 用户数   L 路径数\"\"\"\n",
    "\n",
    "    m = np.arange(M)\n",
    "    fai_m = 1 / M * (m - (M ) / 2);\n",
    "\n",
    "    '''傅里叶变换矩阵'''\n",
    "    U = []\n",
    "    for i in range(M):\n",
    "        U.append(1/math.sqrt(M)*np.exp(-1j*2*np.pi*fai_m[i]*m))\n",
    "\n",
    "    U = np.array(U)\n",
    "    U = U.conjugate()\n",
    "\n",
    "    G = []\n",
    "    for k in range(K):\n",
    "        #Los_gain = (1+np.random.randn(1)*0.5)*np.exp(1j*np.random.rand(1)*2*np.pi) \n",
    "        #距离默认是100  pathloss增加了10^10 不然太小\n",
    "        # Los_loss = 61.4 + 20*2 + np.random.randn(1)*math.pow(10,0.58)\n",
    "        # Los_loss = math.pow(10, (100-Los_loss)/10)\n",
    "        # Los_gain = Los_gain*Los_loss\n",
    "        Los_gain = np.random.randn(1) + 1j*np.random.randn(1)\n",
    "        #Los_gain = (1 + np.random.randn(1) * 0.2) * np.exp(1j * np.random.rand(1) * 2 * np.pi)\n",
    "        theta =  2*np.pi * np.random.rand(1)+np.pi/2\n",
    "        #固定角度\n",
    "        #theta = np.pi * k / K+np.pi/2#+np.random.randn(1)*1/K*np.pi+angle\n",
    "        fai = np.sin(theta)/2\n",
    "        fai = (np.random.rand(1)-0.5)#*1/K +k/K\n",
    "        g =  Los_gain*1/math.sqrt(M)*np.exp(-1j*2*np.pi*fai*m);\n",
    "        for l in range(L-1):\n",
    "            # nLos_gain = np.random.randn(1) + 1j * np.random.randn(1)\n",
    "            # nLos_loss = 72 + 29.2 * 2 + np.random.randn(1) * math.pow(10, 0.87)\n",
    "            # nLos_loss = math.pow(10, (100 - nLos_loss) / 10)\n",
    "            # nLos_gain = nLos_gain * nLos_loss\n",
    "            nLos_gain = np.sqrt(0.2)*(np.random.randn(1) + 1j*np.random.randn(1))\n",
    "            theta = 2 * np.pi * np.random.rand(1)\n",
    "            fai = np.sin(theta) / 2\n",
    "            fai = np.random.rand(1)-0.5\n",
    "            g = g + nLos_gain * 1 / math.sqrt(M) * np.exp(-1j * 2 * np.pi * fai * m);\n",
    "        G.append(g)\n",
    "    G = np.array(G)\n",
    "    H = np.dot(U,G.T)\n",
    "\n",
    "\n",
    "    \"\"\"画出每个beam的能量\"\"\"\n",
    "    beam_energy = np.sum(np.abs(H),1)\n",
    "    # print(beam_energy)\n",
    "    plt.plot(m,beam_energy)\n",
    "    plt.show()\n",
    "\n",
    "    return  H"
   ]
  },
  {
   "cell_type": "code",
   "execution_count": 4,
   "metadata": {},
   "outputs": [
    {
     "data": {
      "image/png": "[encoded data removed]",
      "text/plain": [
       "<Figure size 432x288 with 1 Axes>"
      ]
     },
     "metadata": {
      "needs_background": "light"
     },
     "output_type": "display_data"
    }
   ],
   "source": [
    "H_beam = beamspace_channel(M=144, K=4, L=16)"
   ]
  },
  {
   "cell_type": "markdown",
   "metadata": {},
   "source": [
    "# Extension of S-V channel model\n",
    "* ref: https://blog.csdn.net/qq_23947237/article/details/89925088\n",
    "    * https://blog.csdn.net/qq_39227541/article/details/119358373\n",
    "* Base station is at (0,0,height)\n",
    "* coordinates of cluster center will be generated randomly\n",
    "* N_ray Scatter will be generated randomly around cluster center\n",
    "* each scatter will create an NLOS path with a random complex parameter beta\n",
    "* there will be a LOS path directly from transmitter & receiver"
   ]
  },
  {
   "cell_type": "markdown",
   "metadata": {},
   "source": [
    "<center class = \"half\">\n",
    "<img src=\"./pics/defi.jpg\" style=\"zoom:27%;\"/>\n",
    "<img src=\"./pics/defi1.jpg\" style=\"zoom:33%;\"/>\n",
    "<img src=\"./pics/lcs_gcs.jpg\" style=\"zoom:33%;\"/>\n",
    "</center>"
   ]
  },
  {
   "cell_type": "code",
   "execution_count": 11,
   "metadata": {},
   "outputs": [],
   "source": [
    "'''\n",
    "Author: dhy\n",
    "Mail: git config user.email\n",
    "Date: 2022-11-22 10:56:58\n",
    "LastEditors: dhy\n",
    "LastEditTime: 2022-11-24 06:56:01\n",
    "FilePath: /PyMIMO/test.ipynb\n",
    "Description: \n",
    "\n",
    "Copyright (c) 2022 by dhy 3057931787@qq.com, All Rights Reserved. \n",
    "'''\n",
    "class Pos():\n",
    "    def __init__(self, x , y, z) -> None:\n",
    "        self.x = x\n",
    "        self.y = y\n",
    "        self.z = z\n",
    "    def vector(self,):\n",
    "        return np.array([self.x,self.y,self.z])\n",
    "    def get_angle(self,):\n",
    "        x,y,z = self.x, self.y, self.z\n",
    "        if x == 0 and y == 0 and z == 0:\n",
    "            raise ValueError(\"Cannot derive angle from O\")\n",
    "        d = np.sqrt(x**2 + y**2 + z**2)\n",
    "        x = x/d\n",
    "        y = y/d\n",
    "        z = z/d\n",
    "        L_elevation = np.arccos(z)\n",
    "        L_azimuth = np.arctan(y/x)\n",
    "        return L_azimuth, L_elevation\n",
    "\n",
    "        \n",
    "class UPA():\n",
    "    def __init__(self, H_ant_num, V_ant_num, bearing = 0*np.pi, downtilt = 0*np.pi, slant = 0*np.pi) -> None:\n",
    "        # The angle alpha is called the bearing angle, beta is called the downtilt angle and gamma is called the slant angle.\n",
    "        self.H_ant_num = H_ant_num\n",
    "        self.V_ant_num = V_ant_num\n",
    "        self.bearing =  bearing\n",
    "        self.downtilt = downtilt\n",
    "        self.slant = slant\n",
    "\n",
    "    def get_array_response(self, G_azimuth, G_elevation):\n",
    "        # H_angle V_angle are from LCS\n",
    "        # antenna lies in local zOy plane\n",
    "        # change GCS angles to LCS\n",
    "        L_azimuth, L_elevation = self.Angle_From_GCS_to_LCS(G_azimuth, G_elevation)\n",
    "        vector_V = np.exp(1j * np.arange(start=0, stop=self.V_ant_num , step=1, dtype=np.complex128) * np.pi * np.cos(L_elevation))\n",
    "        vector_H = np.exp(1j * np.arange(start=0, stop=self.H_ant_num , step=1, dtype=np.complex128) * np.pi *np.sin(L_azimuth) * np.sin(L_elevation))\n",
    "        beams = np.kron(vector_V,vector_H)\n",
    "        y = beams/np.sqrt(self.H_ant_num *self.V_ant_num )\n",
    "        return y\n",
    "\n",
    "    def Coordinate_From_GCS_to_LCS(self, G_pos : Pos):\n",
    "        R_z = np.array([[np.cos(self.bearing), -np.sin(self.bearing), 0],[np.sin(self.bearing), np.cos(self.bearing), 0],[0, 0, 1]])\n",
    "        R_y = np.array([[np.cos(self.downtilt), 0, np.sin(self.downtilt)],[0,1,0],[-np.sin(self.downtilt), 0, np.cos(self.downtilt)]])\n",
    "        R_x = np.array([[1,0,0],[0,np.cos(self.slant),-np.sin(self.slant)],[0,np.sin(self.slant),np.cos(self.slant)]])\n",
    "        R = R_z@R_y@R_x\n",
    "        R_reverse = R.T\n",
    "        Lvec = R_reverse @ G_pos.vector()\n",
    "        Lpos = Pos(Lvec[0],Lvec[1],Lvec[2]) \n",
    "        return Lpos\n",
    "\n",
    "    def Angle_From_GCS_to_LCS(self, azimuth, elevation):\n",
    "        # unit vector coordinates of the path \n",
    "        x_G = np.sin(elevation) * np.cos(azimuth)\n",
    "        y_G = np.sin(elevation) * np.sin(azimuth)\n",
    "        z_G = np.cos(elevation)\n",
    "        G_pos = Pos(x_G,y_G,z_G)\n",
    "        Lpos = self.Coordinate_From_GCS_to_LCS(G_pos)\n",
    "        L_azimuth, L_elevation = Lpos.get_angle()\n",
    "        return L_azimuth, L_elevation\n",
    "        # \n"
   ]
  },
  {
   "cell_type": "code",
   "execution_count": 52,
   "metadata": {},
   "outputs": [],
   "source": [
    "\n",
    "class Transmitter():\n",
    "    def __init__(self, H_ant_num=4, V_ant_num=4, N_s=3, pos : Pos = Pos(0,0,10), bearing = 0*np.pi, downtilt = 0*np.pi, slant = 0*np.pi) -> None:\n",
    "        self.pos = pos\n",
    "        self.array = UPA(H_ant_num, V_ant_num, bearing = bearing, downtilt = downtilt, slant = slant)\n",
    "        self.Nt_H = H_ant_num\n",
    "        self.Nt_V = V_ant_num\n",
    "        self.N_s = N_s\n",
    "    def get_position(self,):\n",
    "        return self.pos\n",
    "    def set_position(self, pos : Pos):\n",
    "        self.pos = pos\n",
    "\n",
    "        \n",
    "class Receiver():\n",
    "    def __init__(self, H_ant_num=2, V_ant_num=2, N_s=3, pos : Pos = Pos(1,0,0), bearing = 1*np.pi, downtilt = 0*np.pi, slant = 0*np.pi) -> None:\n",
    "        self.array = UPA(H_ant_num, V_ant_num, bearing = bearing, downtilt = downtilt, slant = slant)\n",
    "        self.Nt_H = H_ant_num\n",
    "        self.Nt_V = V_ant_num\n",
    "        self.N_s = N_s\n",
    "        self.pos = pos\n",
    "\n",
    "    def get_position(self,):\n",
    "        return self.pos\n",
    "    def set_position(self, pos : Pos):\n",
    "        self.pos = pos\n",
    "\n"
   ]
  },
  {
   "cell_type": "code",
   "execution_count": 75,
   "metadata": {},
   "outputs": [],
   "source": [
    "\n",
    "class Cluster():\n",
    "    def __init__(self, center : Pos = Pos(1,1,1), scatter_std : float = 0.5, N_ray = 10, realization=1) -> None:\n",
    "        self.N_ray = N_ray\n",
    "        self.scatter_pos = np.array([center.vector() for i in range(N_ray*realization)])\n",
    "        self.scatter_std = np.random.normal(loc=0, scale=scatter_std, size=[N_ray,3,realization])\n",
    "        self.scatter_pos += self.scatter_std\n",
    "\n",
    "class Channel():\n",
    "    def __init__(self, tx : Transmitter, rx : Receiver, \\\n",
    "                 N_cluster : int, N_ray : int, realization : int) -> None:\n",
    "        self.tx = tx\n",
    "        self.rx = rx\n",
    "        self.N_ray = N_ray\n",
    "        self.N_cluster = N_cluster\n",
    "        cluster_z = np.random.uniform(low=-5+tx.pos.z,high=5+tx.pos.z,size=[N_cluster, realization])\n",
    "        cluster_y = np.random.uniform(low=-rx.pos.y-5,high=rx.pos.y+5,size=[N_cluster, realization])\n",
    "        cluster_x = np.random.uniform(low=2,high=rx.pos.x,size=[N_cluster, realization])\n",
    "        self.cluster_center = [Pos(cluster_x[k,:],cluster_y[k,:],cluster_z[k,:]) for k in range(N_cluster)]\n",
    "        self.clusters = [Cluster(self.cluster_center[p,:], N_ray=N_ray, realization=realization) for p in range(N_cluster)]\n",
    "        self.scatters = np.concatenate([cluster.scatter_pos for cluster in self.clusters], axis=0)\n",
    "        self."
   ]
  },
  {
   "cell_type": "code",
   "execution_count": 53,
   "metadata": {},
   "outputs": [],
   "source": [
    "tx = Transmitter(pos=Pos(0,0,10))\n",
    "rx = Receiver(pos=Pos(5,5,2))"
   ]
  },
  {
   "cell_type": "code",
   "execution_count": 76,
   "metadata": {},
   "outputs": [],
   "source": [
    "ch = Channel(tx,rx,N_cluster=5,N_ray=10,realization=10)"
   ]
  },
  {
   "cell_type": "code",
   "execution_count": 77,
   "metadata": {},
   "outputs": [
    {
     "data": {
      "application/vnd.plotly.v1+json": {
       "config": {
        "plotlyServerURL": "https://plot.ly"
       },
       "data": [
        {
         "marker": {
          "color": [
           0,
           0,
           0,
           0,
           0,
           0,
           0,
           0,
           0,
           0,
           10,
           10,
           10,
           10,
           10,
           10,
           10,
           10,
           10,
           10,
           20,
           20,
           20,
           20,
           20,
           20,
           20,
           20,
           20,
           20,
           30,
           30,
           30,
           30,
           30,
           30,
           30,
           30,
           30,
           30,
           40,
           40,
           40,
           40,
           40,
           40,
           40,
           40,
           40,
           40
          ],
          "colorscale": [
           [
            0,
            "#ff0000"
           ],
           [
            0.1111111111111111,
            "#ffa700"
           ],
           [
            0.2222222222222222,
            "#afff00"
           ],
           [
            0.3333333333333333,
            "#08ff00"
           ],
           [
            0.4444444444444444,
            "#00ff9f"
           ],
           [
            0.5555555555555556,
            "#00b7ff"
           ],
           [
            0.6666666666666666,
            "#0010ff"
           ],
           [
            0.7777777777777778,
            "#9700ff"
           ],
           [
            0.8888888888888888,
            "#ff00bf"
           ],
           [
            1,
            "#ff0000"
           ]
          ],
          "opacity": 0.8,
          "size": 2
         },
         "mode": "markers",
         "type": "scatter3d",
         "x": [
          3.8670320064237598,
          4.847778168015265,
          5.381003961384203,
          5.073985631055956,
          3.857540303258367,
          4.636665983934652,
          4.386331575137395,
          4.137765110508981,
          4.964410428592283,
          4.914422400693537,
          2.7851910232572448,
          2.7410788397673183,
          1.6928449892320814,
          2.3567437740525254,
          2.6269281808835467,
          2.781894049275656,
          2.8509077684058814,
          1.9802074891691421,
          1.2361852792866135,
          3.136397254178119,
          5.067838208146105,
          4.990597648822507,
          5.316313813242175,
          5.106271017854685,
          5.036307695155326,
          4.973547628995528,
          5.435245763065561,
          4.743302464673681,
          5.222105163104693,
          5.1435849505044455,
          2.46915069647474,
          2.4229507805519455,
          2.761496366332884,
          3.1294331349580577,
          2.198847508779634,
          2.7444151996441937,
          2.0635499070503283,
          1.4575432322019772,
          2.113190773665263,
          2.9461233329336833,
          2.485182238376533,
          1.4714741439985173,
          2.9022209975260886,
          2.0169385947148215,
          1.9416381312374407,
          1.9658176184522815,
          2.179440456429142,
          2.773991859044222,
          1.7171637392189059,
          2.2962936621036794
         ],
         "y": [
          4.022906970922412,
          4.32848549300942,
          3.8433356005338237,
          4.485240869733433,
          3.2333314698158264,
          3.4921631476316133,
          3.650656369551363,
          3.547246389512275,
          4.096521090880265,
          4.119854871632304,
          -5.731474998418974,
          -5.838559712383323,
          -6.354398768627435,
          -7.000827021130454,
          -7.008846063738946,
          -5.942494898276582,
          -6.517995262131892,
          -6.476338937340169,
          -6.436761611083341,
          -6.716953503843813,
          9.518259122826906,
          8.878721650300793,
          9.055907481666738,
          9.266418252623119,
          9.433124533823404,
          9.817754967092771,
          9.55932904779073,
          8.924364446939725,
          8.559724052933664,
          9.525938454841912,
          9.637957920089562,
          9.485846221447048,
          10.102501073680191,
          9.488607838882835,
          9.350607948160876,
          8.998703067687924,
          8.729619579602339,
          8.635173639414543,
          8.902632570958666,
          10.316890623028593,
          -8.795143353954142,
          -8.22781430137012,
          -7.859294357219808,
          -7.809227914851066,
          -8.157238437958915,
          -8.051256374378536,
          -7.288841466665029,
          -7.970052794972734,
          -7.6385084444386,
          -8.323105169263526
         ],
         "z": [
          11.274104024348127,
          9.78037023511093,
          11.227621675921002,
          11.336049030450585,
          11.222362383307306,
          11.420600377227034,
          11.167264788577414,
          10.533776357785195,
          10.74562061285201,
          11.425638889236971,
          9.532627524424148,
          10.189866637998927,
          9.599774780222997,
          9.637833927005872,
          9.201497578447153,
          9.640656739816222,
          9.90445720788301,
          9.93153225412433,
          10.219040640975622,
          9.90154963066071,
          7.897315418546708,
          8.964609316326044,
          8.720781983615474,
          8.50256295295788,
          8.490068498988524,
          9.159114891849613,
          8.963590324752907,
          9.301722227633242,
          8.53052461233389,
          8.22974172026905,
          7.826883515396836,
          8.760966692089307,
          7.69850005634494,
          7.8985907838920015,
          7.95516641336367,
          8.696102053345312,
          8.39231567098896,
          8.54788042087428,
          8.398500953166685,
          8.142816409603777,
          8.083692998470147,
          7.591437969330512,
          8.64382595818556,
          8.572266781608619,
          7.472482715908104,
          7.9347859189611425,
          7.432156284995802,
          8.049648870778027,
          7.997637101998012,
          9.038136853484819
         ]
        },
        {
         "marker": {
          "color": "blue",
          "line": {
           "width": 1
          },
          "size": 10,
          "symbol": "diamond"
         },
         "mode": "markers",
         "type": "scatter3d",
         "x": [
          0
         ],
         "y": [
          0
         ],
         "z": [
          10
         ]
        },
        {
         "marker": {
          "color": "pink",
          "line": {
           "width": 1
          },
          "size": 10,
          "symbol": "diamond"
         },
         "mode": "markers",
         "type": "scatter3d",
         "x": [
          5
         ],
         "y": [
          5
         ],
         "z": [
          2
         ]
        }
       ],
       "layout": {
        "template": {
         "data": {
          "bar": [
           {
            "error_x": {
             "color": "#2a3f5f"
            },
            "error_y": {
             "color": "#2a3f5f"
            },
            "marker": {
             "line": {
              "color": "#E5ECF6",
              "width": 0.5
             },
             "pattern": {
              "fillmode": "overlay",
              "size": 10,
              "solidity": 0.2
             }
            },
            "type": "bar"
           }
          ],
          "barpolar": [
           {
            "marker": {
             "line": {
              "color": "#E5ECF6",
              "width": 0.5
             },
             "pattern": {
              "fillmode": "overlay",
              "size": 10,
              "solidity": 0.2
             }
            },
            "type": "barpolar"
           }
          ],
          "carpet": [
           {
            "aaxis": {
             "endlinecolor": "#2a3f5f",
             "gridcolor": "white",
             "linecolor": "white",
             "minorgridcolor": "white",
             "startlinecolor": "#2a3f5f"
            },
            "baxis": {
             "endlinecolor": "#2a3f5f",
             "gridcolor": "white",
             "linecolor": "white",
             "minorgridcolor": "white",
             "startlinecolor": "#2a3f5f"
            },
            "type": "carpet"
           }
          ],
          "choropleth": [
           {
            "colorbar": {
             "outlinewidth": 0,
             "ticks": ""
            },
            "type": "choropleth"
           }
          ],
          "contour": [
           {
            "colorbar": {
             "outlinewidth": 0,
             "ticks": ""
            },
            "colorscale": [
             [
              0,
              "#0d0887"
             ],
             [
              0.1111111111111111,
              "#46039f"
             ],
             [
              0.2222222222222222,
              "#7201a8"
             ],
             [
              0.3333333333333333,
              "#9c179e"
             ],
             [
              0.4444444444444444,
              "#bd3786"
             ],
             [
              0.5555555555555556,
              "#d8576b"
             ],
             [
              0.6666666666666666,
              "#ed7953"
             ],
             [
              0.7777777777777778,
              "#fb9f3a"
             ],
             [
              0.8888888888888888,
              "#fdca26"
             ],
             [
              1,
              "#f0f921"
             ]
            ],
            "type": "contour"
           }
          ],
          "contourcarpet": [
           {
            "colorbar": {
             "outlinewidth": 0,
             "ticks": ""
            },
            "type": "contourcarpet"
           }
          ],
          "heatmap": [
           {
            "colorbar": {
             "outlinewidth": 0,
             "ticks": ""
            },
            "colorscale": [
             [
              0,
              "#0d0887"
             ],
             [
              0.1111111111111111,
              "#46039f"
             ],
             [
              0.2222222222222222,
              "#7201a8"
             ],
             [
              0.3333333333333333,
              "#9c179e"
             ],
             [
              0.4444444444444444,
              "#bd3786"
             ],
             [
              0.5555555555555556,
              "#d8576b"
             ],
             [
              0.6666666666666666,
              "#ed7953"
             ],
             [
              0.7777777777777778,
              "#fb9f3a"
             ],
             [
              0.8888888888888888,
              "#fdca26"
             ],
             [
              1,
              "#f0f921"
             ]
            ],
            "type": "heatmap"
           }
          ],
          "heatmapgl": [
           {
            "colorbar": {
             "outlinewidth": 0,
             "ticks": ""
            },
            "colorscale": [
             [
              0,
              "#0d0887"
             ],
             [
              0.1111111111111111,
              "#46039f"
             ],
             [
              0.2222222222222222,
              "#7201a8"
             ],
             [
              0.3333333333333333,
              "#9c179e"
             ],
             [
              0.4444444444444444,
              "#bd3786"
             ],
             [
              0.5555555555555556,
              "#d8576b"
             ],
             [
              0.6666666666666666,
              "#ed7953"
             ],
             [
              0.7777777777777778,
              "#fb9f3a"
             ],
             [
              0.8888888888888888,
              "#fdca26"
             ],
             [
              1,
              "#f0f921"
             ]
            ],
            "type": "heatmapgl"
           }
          ],
          "histogram": [
           {
            "marker": {
             "pattern": {
              "fillmode": "overlay",
              "size": 10,
              "solidity": 0.2
             }
            },
            "type": "histogram"
           }
          ],
          "histogram2d": [
           {
            "colorbar": {
             "outlinewidth": 0,
             "ticks": ""
            },
            "colorscale": [
             [
              0,
              "#0d0887"
             ],
             [
              0.1111111111111111,
              "#46039f"
             ],
             [
              0.2222222222222222,
              "#7201a8"
             ],
             [
              0.3333333333333333,
              "#9c179e"
             ],
             [
              0.4444444444444444,
              "#bd3786"
             ],
             [
              0.5555555555555556,
              "#d8576b"
             ],
             [
              0.6666666666666666,
              "#ed7953"
             ],
             [
              0.7777777777777778,
              "#fb9f3a"
             ],
             [
              0.8888888888888888,
              "#fdca26"
             ],
             [
              1,
              "#f0f921"
             ]
            ],
            "type": "histogram2d"
           }
          ],
          "histogram2dcontour": [
           {
            "colorbar": {
             "outlinewidth": 0,
             "ticks": ""
            },
            "colorscale": [
             [
              0,
              "#0d0887"
             ],
             [
              0.1111111111111111,
              "#46039f"
             ],
             [
              0.2222222222222222,
              "#7201a8"
             ],
             [
              0.3333333333333333,
              "#9c179e"
             ],
             [
              0.4444444444444444,
              "#bd3786"
             ],
             [
              0.5555555555555556,
              "#d8576b"
             ],
             [
              0.6666666666666666,
              "#ed7953"
             ],
             [
              0.7777777777777778,
              "#fb9f3a"
             ],
             [
              0.8888888888888888,
              "#fdca26"
             ],
             [
              1,
              "#f0f921"
             ]
            ],
            "type": "histogram2dcontour"
           }
          ],
          "mesh3d": [
           {
            "colorbar": {
             "outlinewidth": 0,
             "ticks": ""
            },
            "type": "mesh3d"
           }
          ],
          "parcoords": [
           {
            "line": {
             "colorbar": {
              "outlinewidth": 0,
              "ticks": ""
             }
            },
            "type": "parcoords"
           }
          ],
          "pie": [
           {
            "automargin": true,
            "type": "pie"
           }
          ],
          "scatter": [
           {
            "fillpattern": {
             "fillmode": "overlay",
             "size": 10,
             "solidity": 0.2
            },
            "type": "scatter"
           }
          ],
          "scatter3d": [
           {
            "line": {
             "colorbar": {
              "outlinewidth": 0,
              "ticks": ""
             }
            },
            "marker": {
             "colorbar": {
              "outlinewidth": 0,
              "ticks": ""
             }
            },
            "type": "scatter3d"
           }
          ],
          "scattercarpet": [
           {
            "marker": {
             "colorbar": {
              "outlinewidth": 0,
              "ticks": ""
             }
            },
            "type": "scattercarpet"
           }
          ],
          "scattergeo": [
           {
            "marker": {
             "colorbar": {
              "outlinewidth": 0,
              "ticks": ""
             }
            },
            "type": "scattergeo"
           }
          ],
          "scattergl": [
           {
            "marker": {
             "colorbar": {
              "outlinewidth": 0,
              "ticks": ""
             }
            },
            "type": "scattergl"
           }
          ],
          "scattermapbox": [
           {
            "marker": {
             "colorbar": {
              "outlinewidth": 0,
              "ticks": ""
             }
            },
            "type": "scattermapbox"
           }
          ],
          "scatterpolar": [
           {
            "marker": {
             "colorbar": {
              "outlinewidth": 0,
              "ticks": ""
             }
            },
            "type": "scatterpolar"
           }
          ],
          "scatterpolargl": [
           {
            "marker": {
             "colorbar": {
              "outlinewidth": 0,
              "ticks": ""
             }
            },
            "type": "scatterpolargl"
           }
          ],
          "scatterternary": [
           {
            "marker": {
             "colorbar": {
              "outlinewidth": 0,
              "ticks": ""
             }
            },
            "type": "scatterternary"
           }
          ],
          "surface": [
           {
            "colorbar": {
             "outlinewidth": 0,
             "ticks": ""
            },
            "colorscale": [
             [
              0,
              "#0d0887"
             ],
             [
              0.1111111111111111,
              "#46039f"
             ],
             [
              0.2222222222222222,
              "#7201a8"
             ],
             [
              0.3333333333333333,
              "#9c179e"
             ],
             [
              0.4444444444444444,
              "#bd3786"
             ],
             [
              0.5555555555555556,
              "#d8576b"
             ],
             [
              0.6666666666666666,
              "#ed7953"
             ],
             [
              0.7777777777777778,
              "#fb9f3a"
             ],
             [
              0.8888888888888888,
              "#fdca26"
             ],
             [
              1,
              "#f0f921"
             ]
            ],
            "type": "surface"
           }
          ],
          "table": [
           {
            "cells": {
             "fill": {
              "color": "#EBF0F8"
             },
             "line": {
              "color": "white"
             }
            },
            "header": {
             "fill": {
              "color": "#C8D4E3"
             },
             "line": {
              "color": "white"
             }
            },
            "type": "table"
           }
          ]
         },
         "layout": {
          "annotationdefaults": {
           "arrowcolor": "#2a3f5f",
           "arrowhead": 0,
           "arrowwidth": 1
          },
          "autotypenumbers": "strict",
          "coloraxis": {
           "colorbar": {
            "outlinewidth": 0,
            "ticks": ""
           }
          },
          "colorscale": {
           "diverging": [
            [
             0,
             "#8e0152"
            ],
            [
             0.1,
             "#c51b7d"
            ],
            [
             0.2,
             "#de77ae"
            ],
            [
             0.3,
             "#f1b6da"
            ],
            [
             0.4,
             "#fde0ef"
            ],
            [
             0.5,
             "#f7f7f7"
            ],
            [
             0.6,
             "#e6f5d0"
            ],
            [
             0.7,
             "#b8e186"
            ],
            [
             0.8,
             "#7fbc41"
            ],
            [
             0.9,
             "#4d9221"
            ],
            [
             1,
             "#276419"
            ]
           ],
           "sequential": [
            [
             0,
             "#0d0887"
            ],
            [
             0.1111111111111111,
             "#46039f"
            ],
            [
             0.2222222222222222,
             "#7201a8"
            ],
            [
             0.3333333333333333,
             "#9c179e"
            ],
            [
             0.4444444444444444,
             "#bd3786"
            ],
            [
             0.5555555555555556,
             "#d8576b"
            ],
            [
             0.6666666666666666,
             "#ed7953"
            ],
            [
             0.7777777777777778,
             "#fb9f3a"
            ],
            [
             0.8888888888888888,
             "#fdca26"
            ],
            [
             1,
             "#f0f921"
            ]
           ],
           "sequentialminus": [
            [
             0,
             "#0d0887"
            ],
            [
             0.1111111111111111,
             "#46039f"
            ],
            [
             0.2222222222222222,
             "#7201a8"
            ],
            [
             0.3333333333333333,
             "#9c179e"
            ],
            [
             0.4444444444444444,
             "#bd3786"
            ],
            [
             0.5555555555555556,
             "#d8576b"
            ],
            [
             0.6666666666666666,
             "#ed7953"
            ],
            [
             0.7777777777777778,
             "#fb9f3a"
            ],
            [
             0.8888888888888888,
             "#fdca26"
            ],
            [
             1,
             "#f0f921"
            ]
           ]
          },
          "colorway": [
           "#636efa",
           "#EF553B",
           "#00cc96",
           "#ab63fa",
           "#FFA15A",
           "#19d3f3",
           "#FF6692",
           "#B6E880",
           "#FF97FF",
           "#FECB52"
          ],
          "font": {
           "color": "#2a3f5f"
          },
          "geo": {
           "bgcolor": "white",
           "lakecolor": "white",
           "landcolor": "#E5ECF6",
           "showlakes": true,
           "showland": true,
           "subunitcolor": "white"
          },
          "hoverlabel": {
           "align": "left"
          },
          "hovermode": "closest",
          "mapbox": {
           "style": "light"
          },
          "paper_bgcolor": "white",
          "plot_bgcolor": "#E5ECF6",
          "polar": {
           "angularaxis": {
            "gridcolor": "white",
            "linecolor": "white",
            "ticks": ""
           },
           "bgcolor": "#E5ECF6",
           "radialaxis": {
            "gridcolor": "white",
            "linecolor": "white",
            "ticks": ""
           }
          },
          "scene": {
           "xaxis": {
            "backgroundcolor": "#E5ECF6",
            "gridcolor": "white",
            "gridwidth": 2,
            "linecolor": "white",
            "showbackground": true,
            "ticks": "",
            "zerolinecolor": "white"
           },
           "yaxis": {
            "backgroundcolor": "#E5ECF6",
            "gridcolor": "white",
            "gridwidth": 2,
            "linecolor": "white",
            "showbackground": true,
            "ticks": "",
            "zerolinecolor": "white"
           },
           "zaxis": {
            "backgroundcolor": "#E5ECF6",
            "gridcolor": "white",
            "gridwidth": 2,
            "linecolor": "white",
            "showbackground": true,
            "ticks": "",
            "zerolinecolor": "white"
           }
          },
          "shapedefaults": {
           "line": {
            "color": "#2a3f5f"
           }
          },
          "ternary": {
           "aaxis": {
            "gridcolor": "white",
            "linecolor": "white",
            "ticks": ""
           },
           "baxis": {
            "gridcolor": "white",
            "linecolor": "white",
            "ticks": ""
           },
           "bgcolor": "#E5ECF6",
           "caxis": {
            "gridcolor": "white",
            "linecolor": "white",
            "ticks": ""
           }
          },
          "title": {
           "x": 0.05
          },
          "xaxis": {
           "automargin": true,
           "gridcolor": "white",
           "linecolor": "white",
           "ticks": "",
           "title": {
            "standoff": 15
           },
           "zerolinecolor": "white",
           "zerolinewidth": 2
          },
          "yaxis": {
           "automargin": true,
           "gridcolor": "white",
           "linecolor": "white",
           "ticks": "",
           "title": {
            "standoff": 15
           },
           "zerolinecolor": "white",
           "zerolinewidth": 2
          }
         }
        }
       }
      },
      "text/html": [
       "<div>                            <div id=\"52821bbe-e2c1-4a18-ac72-2e83bf0b70ba\" class=\"plotly-graph-div\" style=\"height:525px; width:100%;\"></div>            <script type=\"text/javascript\">                require([\"plotly\"], function(Plotly) {                    window.PLOTLYENV=window.PLOTLYENV || {};                                    if (document.getElementById(\"52821bbe-e2c1-4a18-ac72-2e83bf0b70ba\")) {                    Plotly.newPlot(                        \"52821bbe-e2c1-4a18-ac72-2e83bf0b70ba\",                        [{\"marker\":{\"color\":[0.0,0.0,0.0,0.0,0.0,0.0,0.0,0.0,0.0,0.0,10.0,10.0,10.0,10.0,10.0,10.0,10.0,10.0,10.0,10.0,20.0,20.0,20.0,20.0,20.0,20.0,20.0,20.0,20.0,20.0,30.0,30.0,30.0,30.0,30.0,30.0,30.0,30.0,30.0,30.0,40.0,40.0,40.0,40.0,40.0,40.0,40.0,40.0,40.0,40.0],\"colorscale\":[[0.0,\"#ff0000\"],[0.1111111111111111,\"#ffa700\"],[0.2222222222222222,\"#afff00\"],[0.3333333333333333,\"#08ff00\"],[0.4444444444444444,\"#00ff9f\"],[0.5555555555555556,\"#00b7ff\"],[0.6666666666666666,\"#0010ff\"],[0.7777777777777778,\"#9700ff\"],[0.8888888888888888,\"#ff00bf\"],[1.0,\"#ff0000\"]],\"opacity\":0.8,\"size\":2},\"mode\":\"markers\",\"x\":[3.8670320064237598,4.847778168015265,5.381003961384203,5.073985631055956,3.857540303258367,4.636665983934652,4.386331575137395,4.137765110508981,4.964410428592283,4.914422400693537,2.7851910232572448,2.7410788397673183,1.6928449892320814,2.3567437740525254,2.6269281808835467,2.781894049275656,2.8509077684058814,1.9802074891691421,1.2361852792866135,3.136397254178119,5.067838208146105,4.990597648822507,5.316313813242175,5.106271017854685,5.036307695155326,4.973547628995528,5.435245763065561,4.743302464673681,5.222105163104693,5.1435849505044455,2.46915069647474,2.4229507805519455,2.761496366332884,3.1294331349580577,2.198847508779634,2.7444151996441937,2.0635499070503283,1.4575432322019772,2.113190773665263,2.9461233329336833,2.485182238376533,1.4714741439985173,2.9022209975260886,2.0169385947148215,1.9416381312374407,1.9658176184522815,2.179440456429142,2.773991859044222,1.7171637392189059,2.2962936621036794],\"y\":[4.022906970922412,4.32848549300942,3.8433356005338237,4.485240869733433,3.2333314698158264,3.4921631476316133,3.650656369551363,3.547246389512275,4.096521090880265,4.119854871632304,-5.731474998418974,-5.838559712383323,-6.354398768627435,-7.000827021130454,-7.008846063738946,-5.942494898276582,-6.517995262131892,-6.476338937340169,-6.436761611083341,-6.716953503843813,9.518259122826906,8.878721650300793,9.055907481666738,9.266418252623119,9.433124533823404,9.817754967092771,9.55932904779073,8.924364446939725,8.559724052933664,9.525938454841912,9.637957920089562,9.485846221447048,10.102501073680191,9.488607838882835,9.350607948160876,8.998703067687924,8.729619579602339,8.635173639414543,8.902632570958666,10.316890623028593,-8.795143353954142,-8.22781430137012,-7.859294357219808,-7.809227914851066,-8.157238437958915,-8.051256374378536,-7.288841466665029,-7.970052794972734,-7.6385084444386,-8.323105169263526],\"z\":[11.274104024348127,9.78037023511093,11.227621675921002,11.336049030450585,11.222362383307306,11.420600377227034,11.167264788577414,10.533776357785195,10.74562061285201,11.425638889236971,9.532627524424148,10.189866637998927,9.599774780222997,9.637833927005872,9.201497578447153,9.640656739816222,9.90445720788301,9.93153225412433,10.219040640975622,9.90154963066071,7.897315418546708,8.964609316326044,8.720781983615474,8.50256295295788,8.490068498988524,9.159114891849613,8.963590324752907,9.301722227633242,8.53052461233389,8.22974172026905,7.826883515396836,8.760966692089307,7.69850005634494,7.8985907838920015,7.95516641336367,8.696102053345312,8.39231567098896,8.54788042087428,8.398500953166685,8.142816409603777,8.083692998470147,7.591437969330512,8.64382595818556,8.572266781608619,7.472482715908104,7.9347859189611425,7.432156284995802,8.049648870778027,7.997637101998012,9.038136853484819],\"type\":\"scatter3d\"},{\"marker\":{\"color\":\"blue\",\"line\":{\"width\":1},\"size\":10,\"symbol\":\"diamond\"},\"mode\":\"markers\",\"x\":[0],\"y\":[0],\"z\":[10],\"type\":\"scatter3d\"},{\"marker\":{\"color\":\"pink\",\"line\":{\"width\":1},\"size\":10,\"symbol\":\"diamond\"},\"mode\":\"markers\",\"x\":[5],\"y\":[5],\"z\":[2],\"type\":\"scatter3d\"}],                        {\"template\":{\"data\":{\"histogram2dcontour\":[{\"type\":\"histogram2dcontour\",\"colorbar\":{\"outlinewidth\":0,\"ticks\":\"\"},\"colorscale\":[[0.0,\"#0d0887\"],[0.1111111111111111,\"#46039f\"],[0.2222222222222222,\"#7201a8\"],[0.3333333333333333,\"#9c179e\"],[0.4444444444444444,\"#bd3786\"],[0.5555555555555556,\"#d8576b\"],[0.6666666666666666,\"#ed7953\"],[0.7777777777777778,\"#fb9f3a\"],[0.8888888888888888,\"#fdca26\"],[1.0,\"#f0f921\"]]}],\"choropleth\":[{\"type\":\"choropleth\",\"colorbar\":{\"outlinewidth\":0,\"ticks\":\"\"}}],\"histogram2d\":[{\"type\":\"histogram2d\",\"colorbar\":{\"outlinewidth\":0,\"ticks\":\"\"},\"colorscale\":[[0.0,\"#0d0887\"],[0.1111111111111111,\"#46039f\"],[0.2222222222222222,\"#7201a8\"],[0.3333333333333333,\"#9c179e\"],[0.4444444444444444,\"#bd3786\"],[0.5555555555555556,\"#d8576b\"],[0.6666666666666666,\"#ed7953\"],[0.7777777777777778,\"#fb9f3a\"],[0.8888888888888888,\"#fdca26\"],[1.0,\"#f0f921\"]]}],\"heatmap\":[{\"type\":\"heatmap\",\"colorbar\":{\"outlinewidth\":0,\"ticks\":\"\"},\"colorscale\":[[0.0,\"#0d0887\"],[0.1111111111111111,\"#46039f\"],[0.2222222222222222,\"#7201a8\"],[0.3333333333333333,\"#9c179e\"],[0.4444444444444444,\"#bd3786\"],[0.5555555555555556,\"#d8576b\"],[0.6666666666666666,\"#ed7953\"],[0.7777777777777778,\"#fb9f3a\"],[0.8888888888888888,\"#fdca26\"],[1.0,\"#f0f921\"]]}],\"heatmapgl\":[{\"type\":\"heatmapgl\",\"colorbar\":{\"outlinewidth\":0,\"ticks\":\"\"},\"colorscale\":[[0.0,\"#0d0887\"],[0.1111111111111111,\"#46039f\"],[0.2222222222222222,\"#7201a8\"],[0.3333333333333333,\"#9c179e\"],[0.4444444444444444,\"#bd3786\"],[0.5555555555555556,\"#d8576b\"],[0.6666666666666666,\"#ed7953\"],[0.7777777777777778,\"#fb9f3a\"],[0.8888888888888888,\"#fdca26\"],[1.0,\"#f0f921\"]]}],\"contourcarpet\":[{\"type\":\"contourcarpet\",\"colorbar\":{\"outlinewidth\":0,\"ticks\":\"\"}}],\"contour\":[{\"type\":\"contour\",\"colorbar\":{\"outlinewidth\":0,\"ticks\":\"\"},\"colorscale\":[[0.0,\"#0d0887\"],[0.1111111111111111,\"#46039f\"],[0.2222222222222222,\"#7201a8\"],[0.3333333333333333,\"#9c179e\"],[0.4444444444444444,\"#bd3786\"],[0.5555555555555556,\"#d8576b\"],[0.6666666666666666,\"#ed7953\"],[0.7777777777777778,\"#fb9f3a\"],[0.8888888888888888,\"#fdca26\"],[1.0,\"#f0f921\"]]}],\"surface\":[{\"type\":\"surface\",\"colorbar\":{\"outlinewidth\":0,\"ticks\":\"\"},\"colorscale\":[[0.0,\"#0d0887\"],[0.1111111111111111,\"#46039f\"],[0.2222222222222222,\"#7201a8\"],[0.3333333333333333,\"#9c179e\"],[0.4444444444444444,\"#bd3786\"],[0.5555555555555556,\"#d8576b\"],[0.6666666666666666,\"#ed7953\"],[0.7777777777777778,\"#fb9f3a\"],[0.8888888888888888,\"#fdca26\"],[1.0,\"#f0f921\"]]}],\"mesh3d\":[{\"type\":\"mesh3d\",\"colorbar\":{\"outlinewidth\":0,\"ticks\":\"\"}}],\"scatter\":[{\"fillpattern\":{\"fillmode\":\"overlay\",\"size\":10,\"solidity\":0.2},\"type\":\"scatter\"}],\"parcoords\":[{\"type\":\"parcoords\",\"line\":{\"colorbar\":{\"outlinewidth\":0,\"ticks\":\"\"}}}],\"scatterpolargl\":[{\"type\":\"scatterpolargl\",\"marker\":{\"colorbar\":{\"outlinewidth\":0,\"ticks\":\"\"}}}],\"bar\":[{\"error_x\":{\"color\":\"#2a3f5f\"},\"error_y\":{\"color\":\"#2a3f5f\"},\"marker\":{\"line\":{\"color\":\"#E5ECF6\",\"width\":0.5},\"pattern\":{\"fillmode\":\"overlay\",\"size\":10,\"solidity\":0.2}},\"type\":\"bar\"}],\"scattergeo\":[{\"type\":\"scattergeo\",\"marker\":{\"colorbar\":{\"outlinewidth\":0,\"ticks\":\"\"}}}],\"scatterpolar\":[{\"type\":\"scatterpolar\",\"marker\":{\"colorbar\":{\"outlinewidth\":0,\"ticks\":\"\"}}}],\"histogram\":[{\"marker\":{\"pattern\":{\"fillmode\":\"overlay\",\"size\":10,\"solidity\":0.2}},\"type\":\"histogram\"}],\"scattergl\":[{\"type\":\"scattergl\",\"marker\":{\"colorbar\":{\"outlinewidth\":0,\"ticks\":\"\"}}}],\"scatter3d\":[{\"type\":\"scatter3d\",\"line\":{\"colorbar\":{\"outlinewidth\":0,\"ticks\":\"\"}},\"marker\":{\"colorbar\":{\"outlinewidth\":0,\"ticks\":\"\"}}}],\"scattermapbox\":[{\"type\":\"scattermapbox\",\"marker\":{\"colorbar\":{\"outlinewidth\":0,\"ticks\":\"\"}}}],\"scatterternary\":[{\"type\":\"scatterternary\",\"marker\":{\"colorbar\":{\"outlinewidth\":0,\"ticks\":\"\"}}}],\"scattercarpet\":[{\"type\":\"scattercarpet\",\"marker\":{\"colorbar\":{\"outlinewidth\":0,\"ticks\":\"\"}}}],\"carpet\":[{\"aaxis\":{\"endlinecolor\":\"#2a3f5f\",\"gridcolor\":\"white\",\"linecolor\":\"white\",\"minorgridcolor\":\"white\",\"startlinecolor\":\"#2a3f5f\"},\"baxis\":{\"endlinecolor\":\"#2a3f5f\",\"gridcolor\":\"white\",\"linecolor\":\"white\",\"minorgridcolor\":\"white\",\"startlinecolor\":\"#2a3f5f\"},\"type\":\"carpet\"}],\"table\":[{\"cells\":{\"fill\":{\"color\":\"#EBF0F8\"},\"line\":{\"color\":\"white\"}},\"header\":{\"fill\":{\"color\":\"#C8D4E3\"},\"line\":{\"color\":\"white\"}},\"type\":\"table\"}],\"barpolar\":[{\"marker\":{\"line\":{\"color\":\"#E5ECF6\",\"width\":0.5},\"pattern\":{\"fillmode\":\"overlay\",\"size\":10,\"solidity\":0.2}},\"type\":\"barpolar\"}],\"pie\":[{\"automargin\":true,\"type\":\"pie\"}]},\"layout\":{\"autotypenumbers\":\"strict\",\"colorway\":[\"#636efa\",\"#EF553B\",\"#00cc96\",\"#ab63fa\",\"#FFA15A\",\"#19d3f3\",\"#FF6692\",\"#B6E880\",\"#FF97FF\",\"#FECB52\"],\"font\":{\"color\":\"#2a3f5f\"},\"hovermode\":\"closest\",\"hoverlabel\":{\"align\":\"left\"},\"paper_bgcolor\":\"white\",\"plot_bgcolor\":\"#E5ECF6\",\"polar\":{\"bgcolor\":\"#E5ECF6\",\"angularaxis\":{\"gridcolor\":\"white\",\"linecolor\":\"white\",\"ticks\":\"\"},\"radialaxis\":{\"gridcolor\":\"white\",\"linecolor\":\"white\",\"ticks\":\"\"}},\"ternary\":{\"bgcolor\":\"#E5ECF6\",\"aaxis\":{\"gridcolor\":\"white\",\"linecolor\":\"white\",\"ticks\":\"\"},\"baxis\":{\"gridcolor\":\"white\",\"linecolor\":\"white\",\"ticks\":\"\"},\"caxis\":{\"gridcolor\":\"white\",\"linecolor\":\"white\",\"ticks\":\"\"}},\"coloraxis\":{\"colorbar\":{\"outlinewidth\":0,\"ticks\":\"\"}},\"colorscale\":{\"sequential\":[[0.0,\"#0d0887\"],[0.1111111111111111,\"#46039f\"],[0.2222222222222222,\"#7201a8\"],[0.3333333333333333,\"#9c179e\"],[0.4444444444444444,\"#bd3786\"],[0.5555555555555556,\"#d8576b\"],[0.6666666666666666,\"#ed7953\"],[0.7777777777777778,\"#fb9f3a\"],[0.8888888888888888,\"#fdca26\"],[1.0,\"#f0f921\"]],\"sequentialminus\":[[0.0,\"#0d0887\"],[0.1111111111111111,\"#46039f\"],[0.2222222222222222,\"#7201a8\"],[0.3333333333333333,\"#9c179e\"],[0.4444444444444444,\"#bd3786\"],[0.5555555555555556,\"#d8576b\"],[0.6666666666666666,\"#ed7953\"],[0.7777777777777778,\"#fb9f3a\"],[0.8888888888888888,\"#fdca26\"],[1.0,\"#f0f921\"]],\"diverging\":[[0,\"#8e0152\"],[0.1,\"#c51b7d\"],[0.2,\"#de77ae\"],[0.3,\"#f1b6da\"],[0.4,\"#fde0ef\"],[0.5,\"#f7f7f7\"],[0.6,\"#e6f5d0\"],[0.7,\"#b8e186\"],[0.8,\"#7fbc41\"],[0.9,\"#4d9221\"],[1,\"#276419\"]]},\"xaxis\":{\"gridcolor\":\"white\",\"linecolor\":\"white\",\"ticks\":\"\",\"title\":{\"standoff\":15},\"zerolinecolor\":\"white\",\"automargin\":true,\"zerolinewidth\":2},\"yaxis\":{\"gridcolor\":\"white\",\"linecolor\":\"white\",\"ticks\":\"\",\"title\":{\"standoff\":15},\"zerolinecolor\":\"white\",\"automargin\":true,\"zerolinewidth\":2},\"scene\":{\"xaxis\":{\"backgroundcolor\":\"#E5ECF6\",\"gridcolor\":\"white\",\"linecolor\":\"white\",\"showbackground\":true,\"ticks\":\"\",\"zerolinecolor\":\"white\",\"gridwidth\":2},\"yaxis\":{\"backgroundcolor\":\"#E5ECF6\",\"gridcolor\":\"white\",\"linecolor\":\"white\",\"showbackground\":true,\"ticks\":\"\",\"zerolinecolor\":\"white\",\"gridwidth\":2},\"zaxis\":{\"backgroundcolor\":\"#E5ECF6\",\"gridcolor\":\"white\",\"linecolor\":\"white\",\"showbackground\":true,\"ticks\":\"\",\"zerolinecolor\":\"white\",\"gridwidth\":2}},\"shapedefaults\":{\"line\":{\"color\":\"#2a3f5f\"}},\"annotationdefaults\":{\"arrowcolor\":\"#2a3f5f\",\"arrowhead\":0,\"arrowwidth\":1},\"geo\":{\"bgcolor\":\"white\",\"landcolor\":\"#E5ECF6\",\"subunitcolor\":\"white\",\"showland\":true,\"showlakes\":true,\"lakecolor\":\"white\"},\"title\":{\"x\":0.05},\"mapbox\":{\"style\":\"light\"}}}},                        {\"responsive\": true}                    ).then(function(){\n",
       "                            \n",
       "var gd = document.getElementById('52821bbe-e2c1-4a18-ac72-2e83bf0b70ba');\n",
       "var x = new MutationObserver(function (mutations, observer) {{\n",
       "        var display = window.getComputedStyle(gd).display;\n",
       "        if (!display || display === 'none') {{\n",
       "            console.log([gd, 'removed!']);\n",
       "            Plotly.purge(gd);\n",
       "            observer.disconnect();\n",
       "        }}\n",
       "}});\n",
       "\n",
       "// Listen for the removal of the full notebook cells\n",
       "var notebookContainer = gd.closest('#notebook-container');\n",
       "if (notebookContainer) {{\n",
       "    x.observe(notebookContainer, {childList: true});\n",
       "}}\n",
       "\n",
       "// Listen for the clearing of the current output cell\n",
       "var outputEl = gd.closest('.output');\n",
       "if (outputEl) {{\n",
       "    x.observe(outputEl, {childList: true});\n",
       "}}\n",
       "\n",
       "                        })                };                });            </script>        </div>"
      ]
     },
     "metadata": {},
     "output_type": "display_data"
    }
   ],
   "source": [
    "import plotly.express as px\n",
    "import plotly.graph_objects as go\n",
    "x, y, z = ch.scatters[:,0],ch.scatters[:,1],ch.scatters[:,2]\n",
    "c = np.kron(np.arange(ch.N_cluster),10*np.ones(ch.N_ray))\n",
    "fig = go.Figure()\n",
    "fig.add_trace(go.Scatter3d(x=x, y=y, z=z,\n",
    "                                   mode='markers',\n",
    "                                   marker=dict(\n",
    "                                    size=2,\n",
    "                                    color=c,                # set color to an array/list of desired values\n",
    "                                    colorscale='hsv',   # choose a colorscale\n",
    "                                    opacity=0.8)))\n",
    "fig.add_trace(go.Scatter3d(x=[ch.tx.pos.x], y=[ch.tx.pos.y], z=[ch.tx.pos.z],\n",
    "                                   mode='markers',\n",
    "                                   marker=dict(\n",
    "                                    size=10,\n",
    "                                    line_width=1,\n",
    "                                    color='blue',\n",
    "                                    symbol='diamond')))\n",
    "fig.add_trace(go.Scatter3d(x=[ch.rx.pos.x], y=[ch.rx.pos.y], z=[ch.rx.pos.z],\n",
    "                                   mode='markers',\n",
    "                                   marker=dict(\n",
    "                                    size=10,\n",
    "                                    line_width=1,\n",
    "                                    color='pink',\n",
    "                                    symbol='diamond')))\n",
    "\n",
    "fig.show()"
   ]
  },
  {
   "cell_type": "code",
   "execution_count": null,
   "metadata": {},
   "outputs": [],
   "source": [
    "\n",
    "class Channel():\n",
    "    def __init__(self, tx : Transmitter, rx : Receiver, \\\n",
    "                 N_cluster : int, N_ray : int, realization : int) -> None:\n",
    "        self.N_sub_path = int(N_cluster*N_ray)\n",
    "        self.Nt = tx.Nt_H*tx.Nt_V\n",
    "        self.Nr = rx.Nt_H*rx.Nt_V\n",
    "        # initialize arrays\n",
    "        self.AoA = np.zeros((2, N_cluster*N_ray))\n",
    "        self.AoD = np.zeros((2, N_cluster*N_ray))\n",
    "        self.H = np.zeros((self.Nr,self.Nt,realization),dtype=np.complex64)\n",
    "        self.At = np.zeros((self.Nt,N_cluster*N_ray,realization),dtype=np.complex64)\n",
    "        self.Ar = np.zeros((self.Nr,N_cluster*N_ray,realization),dtype=np.complex64)\n",
    "        self.alpha = np.zeros((N_cluster*N_ray,realization),dtype=np.complex64)\n",
    "        self.Fopt =  np.zeros((self.Nt,tx.N_s,realization),dtype=np.complex64)\n",
    "        self.Wopt =  np.zeros((self.Nr,tx.N_s,realization),dtype=np.complex64)\n",
    "        # simulation params\n",
    "        angle_sigma = 10/180*np.pi # standard deviation of the angles in azimuth and elevation both of Rx and Tx\n",
    "        gamma = np.sqrt((tx.Nt_H*tx.Nt_V*rx.Nt_H*rx.Nt_V)/(N_cluster*N_ray)) # normalization factor\n",
    "        sigma = 1 # according to the normalization condition of the H\n",
    "        count = 0\n",
    "        for reali in range(realization):\n",
    "            # generate AoA/AoD data for each cluster\n",
    "            for c in range(Nc):\n",
    "                AoD_m = np.random.uniform(0,2*np.pi,size=(1,2))\n",
    "                AoA_m = np.random.uniform(0,2*np.pi,size=(1,2))\n",
    "                # Note: should divide angle_sigma by sqrt 2 to adopt numpy.random.laplace api\n",
    "                # AoA/AoD is from a laplace distribution of mean m and std angle_sigma\n",
    "                AoD[0,c*Nray:Nray*(c+1)] = AoD_m[:,0] + np.random.laplace(loc=AoD_m[:,0],scale=angle_sigma/np.sqrt(2),size=(1,Nray)) \n",
    "                AoD[1,c*Nray:Nray*(c+1)] = AoD_m[:,1] + np.random.laplace(loc=AoD_m[:,1],scale=angle_sigma/np.sqrt(2),size=(1,Nray)) \n",
    "                AoA[0,c*Nray:Nray*(c+1)] = AoA_m[:,0] + np.random.laplace(loc=AoA_m[:,0],scale=angle_sigma/np.sqrt(2),size=(1,Nray)) \n",
    "                AoA[1,c*Nray:Nray*(c+1)] = AoA_m[:,1] + np.random.laplace(loc=AoA_m[:,1],scale=angle_sigma/np.sqrt(2),size=(1,Nray)) \n",
    "            \n",
    "            # calculate H\n",
    "            for j in range(0,N_sub_path):\n",
    "                At[:,j,reali] = array_response(AoD[0,j],AoD[1,j],Nt_H,Nt_V) # UPA array response\n",
    "                Ar[:,j,reali] = array_response(AoA[0,j],AoA[1,j],Nr_H,Nr_V)\n",
    "                alpha[j,reali] = np.random.normal(0,np.sqrt(sigma/2)) + 1j*np.random.normal(0,np.sqrt(sigma/2))\n",
    "                H[:,:,reali] = H[:,:,reali] + alpha[j,reali] * np.expand_dims(Ar[:,j,reali],axis=-1) @ np.expand_dims(np.conjugate(At[:,j,reali].T),axis=0)\n",
    "\n",
    "            H[:,:,reali] = gamma * H[:,:,reali]\n",
    "            \n",
    "            if(np.linalg.matrix_rank(H[:,:,reali])>=Ns):\n",
    "                count = count + 1\n",
    "                [U,S,V] = np.linalg.svd(H[:,:,reali],full_matrices=True)\n",
    "                Fopt[:,:,reali] = V[0:Nt,0:Ns]\n",
    "                Wopt[:,:,reali] = U[0:Nr,0:Ns]\n",
    "   \n",
    "\n"
   ]
  }
 ],
 "metadata": {
  "kernelspec": {
   "display_name": "Python 3.10.4 ('pytorch_env')",
   "language": "python",
   "name": "python3"
  },
  "language_info": {
   "codemirror_mode": {
    "name": "ipython",
    "version": 3
   },
   "file_extension": ".py",
   "mimetype": "text/x-python",
   "name": "python",
   "nbconvert_exporter": "python",
   "pygments_lexer": "ipython3",
   "version": "3.10.4"
  },
  "orig_nbformat": 4,
  "vscode": {
   "interpreter": {
    "hash": "d5d9f781454c056a6218b73ddbc0804c3344546beed30fcf0c196191c26068f2"
   }
  }
 },
 "nbformat": 4,
 "nbformat_minor": 2
}
